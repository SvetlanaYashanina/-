{
 "cells": [
  {
   "cell_type": "code",
   "execution_count": 1,
   "id": "a459580c-4306-4211-94e8-bd2861f662a4",
   "metadata": {},
   "outputs": [],
   "source": [
    "import requests\n",
    "from bs4 import BeautifulSoup\n",
    "import os"
   ]
  },
  {
   "cell_type": "code",
   "execution_count": 3,
   "id": "bd849c2a-429e-44d0-8a5d-3a1f6f5d6501",
   "metadata": {},
   "outputs": [],
   "source": [
    "# Функция для получения HTML-кода страницы\n",
    "def get_page(url):\n",
    "    response = requests.get(url)\n",
    "    response.raise_for_status()  # Проверяем успешность запроса\n",
    "    return response.text"
   ]
  },
  {
   "cell_type": "code",
   "execution_count": 5,
   "id": "a26f4d36-1172-4bfc-a951-c4507e233a4b",
   "metadata": {},
   "outputs": [],
   "source": [
    "# Функция для парсинга текста и изображений\n",
    "def parse_ivanovo_news():\n",
    "    base_url = 'https://www.ivanovonews.ru/'\n",
    "    html = get_page(base_url)\n",
    "    soup = BeautifulSoup(html, 'html.parser')\n",
    "\n",
    "    articles = soup.find_all('article')  # Ищем все статьи на странице\n",
    "    for article in articles:\n",
    "        title = article.find('h2').get_text(strip=True)  # Получаем заголовок\n",
    "        print(f'Title: {title}')\n",
    "\n",
    "        img_tag = article.find('img')  # Ищем изображение\n",
    "        if img_tag and 'src' in img_tag.attrs:\n",
    "            img_url = img_tag['src']\n",
    "            print(f'Image URL: {img_url}')\n",
    "            # Сохраняем изображение\n",
    "            img_data = requests.get(img_url).content\n",
    "            with open(os.path.join('images', os.path.basename(img_url)), 'wb') as img_file:\n",
    "                img_file.write(img_data)"
   ]
  },
  {
   "cell_type": "code",
   "execution_count": 7,
   "id": "57a6abc9-7767-49f8-be92-e2d964436b37",
   "metadata": {},
   "outputs": [],
   "source": [
    "# Создаем папку для изображений\n",
    "os.makedirs('images', exist_ok=True)\n",
    "parse_ivanovo_news()"
   ]
  },
  {
   "cell_type": "code",
   "execution_count": 1,
   "id": "97d88f72-8721-4db3-8c78-9356d7718ec7",
   "metadata": {},
   "outputs": [
    {
     "name": "stdout",
     "output_type": "stream",
     "text": [
      "Requirement already satisfied: nltk in /usr/local/anaconda3/lib/python3.12/site-packages (3.8.1)\n",
      "Requirement already satisfied: click in /usr/local/anaconda3/lib/python3.12/site-packages (from nltk) (8.1.7)\n",
      "Requirement already satisfied: joblib in /usr/local/anaconda3/lib/python3.12/site-packages (from nltk) (1.4.2)\n",
      "Requirement already satisfied: regex>=2021.8.3 in /usr/local/anaconda3/lib/python3.12/site-packages (from nltk) (2023.10.3)\n",
      "Requirement already satisfied: tqdm in /usr/local/anaconda3/lib/python3.12/site-packages (from nltk) (4.66.4)\n",
      "Note: you may need to restart the kernel to use updated packages.\n"
     ]
    }
   ],
   "source": [
    "pip install nltk"
   ]
  },
  {
   "cell_type": "code",
   "execution_count": null,
   "id": "cc3670b5-dd85-48b6-a5d3-1eb21135b492",
   "metadata": {},
   "outputs": [],
   "source": []
  }
 ],
 "metadata": {
  "kernelspec": {
   "display_name": "Python 3 (ipykernel)",
   "language": "python",
   "name": "python3"
  },
  "language_info": {
   "codemirror_mode": {
    "name": "ipython",
    "version": 3
   },
   "file_extension": ".py",
   "mimetype": "text/x-python",
   "name": "python",
   "nbconvert_exporter": "python",
   "pygments_lexer": "ipython3",
   "version": "3.12.4"
  }
 },
 "nbformat": 4,
 "nbformat_minor": 5
}
