{
 "cells": [
  {
   "cell_type": "code",
   "execution_count": 52,
   "id": "e625313f-5995-41df-b94d-4f71141a5646",
   "metadata": {},
   "outputs": [],
   "source": [
    "import requests\n",
    "from bs4 import BeautifulSoup\n",
    "import os"
   ]
  },
  {
   "cell_type": "code",
   "execution_count": 54,
   "id": "546518f6-fde6-41d4-a635-4dcf9e6e5387",
   "metadata": {},
   "outputs": [],
   "source": [
    "# Указываем URL сайта\n",
    "url = 'https://www.ivanovonews.ru/'"
   ]
  },
  {
   "cell_type": "code",
   "execution_count": 56,
   "id": "269436d7-5f96-4743-8915-69175ae8e8e3",
   "metadata": {},
   "outputs": [],
   "source": [
    "# Делаем запрос к сайту\n",
    "response = requests.get(url)\n",
    "soup = BeautifulSoup(response.text, 'html.parser')"
   ]
  },
  {
   "cell_type": "code",
   "execution_count": 58,
   "id": "329e915d-eb9e-413d-9f6e-094b19a8e981",
   "metadata": {},
   "outputs": [],
   "source": [
    "# Создаем директорию для сохранения изображений\n",
    "if not os.path.exists('images'):\n",
    "    os.makedirs('images')"
   ]
  },
  {
   "cell_type": "code",
   "execution_count": 60,
   "id": "8f5204d7-853d-425b-bbb3-af3f81d52b88",
   "metadata": {},
   "outputs": [],
   "source": [
    "# Извлекаем текст\n",
    "text = soup.get_text()\n",
    "with open('output.txt', 'w', encoding='utf-8') as f:\n",
    "    f.write(text)"
   ]
  },
  {
   "cell_type": "code",
   "execution_count": 78,
   "id": "2e01a0ee-7edd-4118-b122-cc4f76acda78",
   "metadata": {},
   "outputs": [],
   "source": [
    "# Извлекаем изображения\n",
    "for img in soup.findAll('img',{\"src\":True}):\n",
    "    img_url = img['src']\n",
    "    if not img_url.startswith('http'):\n",
    "        img_url = url + img_url  # Дополняем относительные URL\n",
    "    img_data = requests.get(img_url).content\n",
    "    img_name = os.path.join('images', img_url.split('/')[-1])\n",
    "    with open(img_name, 'wb') as f:\n",
    "        f.write(img_data)"
   ]
  },
  {
   "cell_type": "code",
   "execution_count": 80,
   "id": "b532406f-a712-4618-8085-328b3115eea1",
   "metadata": {},
   "outputs": [
    {
     "name": "stdout",
     "output_type": "stream",
     "text": [
      "Скрепинг завершен!\n"
     ]
    }
   ],
   "source": [
    "print(\"Скрепинг завершен!\")"
   ]
  },
  {
   "cell_type": "code",
   "execution_count": null,
   "id": "e357ed92-1bfd-4c61-828a-872bdf3fdaa5",
   "metadata": {},
   "outputs": [],
   "source": []
  }
 ],
 "metadata": {
  "kernelspec": {
   "display_name": "Python 3 (ipykernel)",
   "language": "python",
   "name": "python3"
  },
  "language_info": {
   "codemirror_mode": {
    "name": "ipython",
    "version": 3
   },
   "file_extension": ".py",
   "mimetype": "text/x-python",
   "name": "python",
   "nbconvert_exporter": "python",
   "pygments_lexer": "ipython3",
   "version": "3.12.4"
  }
 },
 "nbformat": 4,
 "nbformat_minor": 5
}
