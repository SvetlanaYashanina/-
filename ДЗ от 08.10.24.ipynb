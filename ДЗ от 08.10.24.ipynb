{
 "cells": [
  {
   "cell_type": "code",
   "execution_count": 3,
   "id": "8d015e96-aaa4-49e9-987e-1825b3270150",
   "metadata": {},
   "outputs": [],
   "source": [
    "import pandas as pd\n",
    "import numpy as np\n",
    "import matplotlib.pyplot as plt\n",
    "import seaborn as sns\n",
    "from scipy import stats\n",
    "import statsmodels.api as sm\n",
    "import statsmodels.api"
   ]
  },
  {
   "cell_type": "code",
   "execution_count": 4,
   "id": "f1840134-8327-4d88-8b9d-7084e294fc24",
   "metadata": {},
   "outputs": [],
   "source": [
    "df_sales = pd.read_csv(r\"https://raw.githubusercontent.com/YBI-Foundation/Dataset/refs/heads/main/Product%20Sales%20Data.csv\")"
   ]
  },
  {
   "cell_type": "code",
   "execution_count": 5,
   "id": "f37789d2-9639-4410-b067-7948e2949c37",
   "metadata": {},
   "outputs": [
    {
     "data": {
      "text/html": [
       "<div>\n",
       "<style scoped>\n",
       "    .dataframe tbody tr th:only-of-type {\n",
       "        vertical-align: middle;\n",
       "    }\n",
       "\n",
       "    .dataframe tbody tr th {\n",
       "        vertical-align: top;\n",
       "    }\n",
       "\n",
       "    .dataframe thead th {\n",
       "        text-align: right;\n",
       "    }\n",
       "</style>\n",
       "<table border=\"1\" class=\"dataframe\">\n",
       "  <thead>\n",
       "    <tr style=\"text-align: right;\">\n",
       "      <th></th>\n",
       "      <th>Month</th>\n",
       "      <th>Cream</th>\n",
       "      <th>Detergent</th>\n",
       "      <th>Moisturizer</th>\n",
       "      <th>Sanitizer</th>\n",
       "      <th>Shampoo</th>\n",
       "      <th>Soap</th>\n",
       "      <th>Total Units</th>\n",
       "      <th>Total Profit</th>\n",
       "    </tr>\n",
       "  </thead>\n",
       "  <tbody>\n",
       "    <tr>\n",
       "      <th>0</th>\n",
       "      <td>Jan</td>\n",
       "      <td>5100</td>\n",
       "      <td>9600</td>\n",
       "      <td>1525</td>\n",
       "      <td>1550</td>\n",
       "      <td>1200</td>\n",
       "      <td>2510</td>\n",
       "      <td>21485</td>\n",
       "      <td>211500</td>\n",
       "    </tr>\n",
       "    <tr>\n",
       "      <th>1</th>\n",
       "      <td>Feb</td>\n",
       "      <td>5000</td>\n",
       "      <td>6500</td>\n",
       "      <td>1225</td>\n",
       "      <td>1250</td>\n",
       "      <td>2100</td>\n",
       "      <td>2640</td>\n",
       "      <td>18715</td>\n",
       "      <td>183800</td>\n",
       "    </tr>\n",
       "    <tr>\n",
       "      <th>2</th>\n",
       "      <td>Mar</td>\n",
       "      <td>4450</td>\n",
       "      <td>9950</td>\n",
       "      <td>1365</td>\n",
       "      <td>1390</td>\n",
       "      <td>3550</td>\n",
       "      <td>2150</td>\n",
       "      <td>22855</td>\n",
       "      <td>225200</td>\n",
       "    </tr>\n",
       "    <tr>\n",
       "      <th>3</th>\n",
       "      <td>Apr</td>\n",
       "      <td>5770</td>\n",
       "      <td>9270</td>\n",
       "      <td>1155</td>\n",
       "      <td>1180</td>\n",
       "      <td>1870</td>\n",
       "      <td>3410</td>\n",
       "      <td>22655</td>\n",
       "      <td>223200</td>\n",
       "    </tr>\n",
       "    <tr>\n",
       "      <th>4</th>\n",
       "      <td>May</td>\n",
       "      <td>4460</td>\n",
       "      <td>8160</td>\n",
       "      <td>1765</td>\n",
       "      <td>1790</td>\n",
       "      <td>1560</td>\n",
       "      <td>3610</td>\n",
       "      <td>21345</td>\n",
       "      <td>210100</td>\n",
       "    </tr>\n",
       "    <tr>\n",
       "      <th>5</th>\n",
       "      <td>Jun</td>\n",
       "      <td>4790</td>\n",
       "      <td>7890</td>\n",
       "      <td>1580</td>\n",
       "      <td>1605</td>\n",
       "      <td>1890</td>\n",
       "      <td>2770</td>\n",
       "      <td>20525</td>\n",
       "      <td>201900</td>\n",
       "    </tr>\n",
       "    <tr>\n",
       "      <th>6</th>\n",
       "      <td>Jul</td>\n",
       "      <td>4680</td>\n",
       "      <td>9380</td>\n",
       "      <td>1145</td>\n",
       "      <td>1170</td>\n",
       "      <td>1780</td>\n",
       "      <td>2990</td>\n",
       "      <td>21145</td>\n",
       "      <td>296000</td>\n",
       "    </tr>\n",
       "    <tr>\n",
       "      <th>7</th>\n",
       "      <td>Aug</td>\n",
       "      <td>5760</td>\n",
       "      <td>10360</td>\n",
       "      <td>1425</td>\n",
       "      <td>1450</td>\n",
       "      <td>2860</td>\n",
       "      <td>3710</td>\n",
       "      <td>25565</td>\n",
       "      <td>361900</td>\n",
       "    </tr>\n",
       "    <tr>\n",
       "      <th>8</th>\n",
       "      <td>Sep</td>\n",
       "      <td>6000</td>\n",
       "      <td>8500</td>\n",
       "      <td>1805</td>\n",
       "      <td>1830</td>\n",
       "      <td>2100</td>\n",
       "      <td>3550</td>\n",
       "      <td>23785</td>\n",
       "      <td>234500</td>\n",
       "    </tr>\n",
       "    <tr>\n",
       "      <th>9</th>\n",
       "      <td>Oct</td>\n",
       "      <td>8200</td>\n",
       "      <td>10700</td>\n",
       "      <td>1915</td>\n",
       "      <td>1940</td>\n",
       "      <td>2300</td>\n",
       "      <td>2000</td>\n",
       "      <td>27055</td>\n",
       "      <td>267200</td>\n",
       "    </tr>\n",
       "    <tr>\n",
       "      <th>10</th>\n",
       "      <td>Nov</td>\n",
       "      <td>7200</td>\n",
       "      <td>13700</td>\n",
       "      <td>2125</td>\n",
       "      <td>2150</td>\n",
       "      <td>2400</td>\n",
       "      <td>2350</td>\n",
       "      <td>29925</td>\n",
       "      <td>413300</td>\n",
       "    </tr>\n",
       "    <tr>\n",
       "      <th>11</th>\n",
       "      <td>Dec</td>\n",
       "      <td>7300</td>\n",
       "      <td>14800</td>\n",
       "      <td>1785</td>\n",
       "      <td>1810</td>\n",
       "      <td>1800</td>\n",
       "      <td>2910</td>\n",
       "      <td>30405</td>\n",
       "      <td>300700</td>\n",
       "    </tr>\n",
       "  </tbody>\n",
       "</table>\n",
       "</div>"
      ],
      "text/plain": [
       "   Month  Cream  Detergent  Moisturizer  Sanitizer  Shampoo  Soap  \\\n",
       "0    Jan   5100       9600         1525       1550     1200  2510   \n",
       "1    Feb   5000       6500         1225       1250     2100  2640   \n",
       "2    Mar   4450       9950         1365       1390     3550  2150   \n",
       "3    Apr   5770       9270         1155       1180     1870  3410   \n",
       "4    May   4460       8160         1765       1790     1560  3610   \n",
       "5    Jun   4790       7890         1580       1605     1890  2770   \n",
       "6    Jul   4680       9380         1145       1170     1780  2990   \n",
       "7    Aug   5760      10360         1425       1450     2860  3710   \n",
       "8    Sep   6000       8500         1805       1830     2100  3550   \n",
       "9    Oct   8200      10700         1915       1940     2300  2000   \n",
       "10   Nov   7200      13700         2125       2150     2400  2350   \n",
       "11   Dec   7300      14800         1785       1810     1800  2910   \n",
       "\n",
       "    Total Units  Total Profit  \n",
       "0         21485        211500  \n",
       "1         18715        183800  \n",
       "2         22855        225200  \n",
       "3         22655        223200  \n",
       "4         21345        210100  \n",
       "5         20525        201900  \n",
       "6         21145        296000  \n",
       "7         25565        361900  \n",
       "8         23785        234500  \n",
       "9         27055        267200  \n",
       "10        29925        413300  \n",
       "11        30405        300700  "
      ]
     },
     "execution_count": 5,
     "metadata": {},
     "output_type": "execute_result"
    }
   ],
   "source": [
    "df_sales"
   ]
  },
  {
   "cell_type": "code",
   "execution_count": 6,
   "id": "660c204e-fc5c-40f4-b8c9-b2aea7711160",
   "metadata": {},
   "outputs": [
    {
     "data": {
      "text/html": [
       "<div>\n",
       "<style scoped>\n",
       "    .dataframe tbody tr th:only-of-type {\n",
       "        vertical-align: middle;\n",
       "    }\n",
       "\n",
       "    .dataframe tbody tr th {\n",
       "        vertical-align: top;\n",
       "    }\n",
       "\n",
       "    .dataframe thead th {\n",
       "        text-align: right;\n",
       "    }\n",
       "</style>\n",
       "<table border=\"1\" class=\"dataframe\">\n",
       "  <thead>\n",
       "    <tr style=\"text-align: right;\">\n",
       "      <th></th>\n",
       "      <th>Cream</th>\n",
       "      <th>Detergent</th>\n",
       "      <th>Moisturizer</th>\n",
       "      <th>Sanitizer</th>\n",
       "      <th>Shampoo</th>\n",
       "      <th>Soap</th>\n",
       "      <th>Total Units</th>\n",
       "      <th>Total Profit</th>\n",
       "    </tr>\n",
       "  </thead>\n",
       "  <tbody>\n",
       "    <tr>\n",
       "      <th>count</th>\n",
       "      <td>12.000000</td>\n",
       "      <td>12.000000</td>\n",
       "      <td>12.000000</td>\n",
       "      <td>12.000000</td>\n",
       "      <td>12.000000</td>\n",
       "      <td>12.000000</td>\n",
       "      <td>12.000000</td>\n",
       "      <td>12.000000</td>\n",
       "    </tr>\n",
       "    <tr>\n",
       "      <th>mean</th>\n",
       "      <td>5725.833333</td>\n",
       "      <td>9900.833333</td>\n",
       "      <td>1567.916667</td>\n",
       "      <td>1592.916667</td>\n",
       "      <td>2117.500000</td>\n",
       "      <td>2883.333333</td>\n",
       "      <td>23788.333333</td>\n",
       "      <td>260775.000000</td>\n",
       "    </tr>\n",
       "    <tr>\n",
       "      <th>std</th>\n",
       "      <td>1242.032486</td>\n",
       "      <td>2348.095779</td>\n",
       "      <td>316.733745</td>\n",
       "      <td>316.733745</td>\n",
       "      <td>617.724931</td>\n",
       "      <td>584.595172</td>\n",
       "      <td>3718.169964</td>\n",
       "      <td>70143.659404</td>\n",
       "    </tr>\n",
       "    <tr>\n",
       "      <th>min</th>\n",
       "      <td>4450.000000</td>\n",
       "      <td>6500.000000</td>\n",
       "      <td>1145.000000</td>\n",
       "      <td>1170.000000</td>\n",
       "      <td>1200.000000</td>\n",
       "      <td>2000.000000</td>\n",
       "      <td>18715.000000</td>\n",
       "      <td>183800.000000</td>\n",
       "    </tr>\n",
       "    <tr>\n",
       "      <th>25%</th>\n",
       "      <td>4762.500000</td>\n",
       "      <td>8415.000000</td>\n",
       "      <td>1330.000000</td>\n",
       "      <td>1355.000000</td>\n",
       "      <td>1795.000000</td>\n",
       "      <td>2470.000000</td>\n",
       "      <td>21295.000000</td>\n",
       "      <td>211150.000000</td>\n",
       "    </tr>\n",
       "    <tr>\n",
       "      <th>50%</th>\n",
       "      <td>5430.000000</td>\n",
       "      <td>9490.000000</td>\n",
       "      <td>1552.500000</td>\n",
       "      <td>1577.500000</td>\n",
       "      <td>1995.000000</td>\n",
       "      <td>2840.000000</td>\n",
       "      <td>22755.000000</td>\n",
       "      <td>229850.000000</td>\n",
       "    </tr>\n",
       "    <tr>\n",
       "      <th>75%</th>\n",
       "      <td>6300.000000</td>\n",
       "      <td>10445.000000</td>\n",
       "      <td>1790.000000</td>\n",
       "      <td>1815.000000</td>\n",
       "      <td>2325.000000</td>\n",
       "      <td>3445.000000</td>\n",
       "      <td>25937.500000</td>\n",
       "      <td>297175.000000</td>\n",
       "    </tr>\n",
       "    <tr>\n",
       "      <th>max</th>\n",
       "      <td>8200.000000</td>\n",
       "      <td>14800.000000</td>\n",
       "      <td>2125.000000</td>\n",
       "      <td>2150.000000</td>\n",
       "      <td>3550.000000</td>\n",
       "      <td>3710.000000</td>\n",
       "      <td>30405.000000</td>\n",
       "      <td>413300.000000</td>\n",
       "    </tr>\n",
       "  </tbody>\n",
       "</table>\n",
       "</div>"
      ],
      "text/plain": [
       "             Cream     Detergent  Moisturizer    Sanitizer      Shampoo  \\\n",
       "count    12.000000     12.000000    12.000000    12.000000    12.000000   \n",
       "mean   5725.833333   9900.833333  1567.916667  1592.916667  2117.500000   \n",
       "std    1242.032486   2348.095779   316.733745   316.733745   617.724931   \n",
       "min    4450.000000   6500.000000  1145.000000  1170.000000  1200.000000   \n",
       "25%    4762.500000   8415.000000  1330.000000  1355.000000  1795.000000   \n",
       "50%    5430.000000   9490.000000  1552.500000  1577.500000  1995.000000   \n",
       "75%    6300.000000  10445.000000  1790.000000  1815.000000  2325.000000   \n",
       "max    8200.000000  14800.000000  2125.000000  2150.000000  3550.000000   \n",
       "\n",
       "              Soap   Total Units   Total Profit  \n",
       "count    12.000000     12.000000      12.000000  \n",
       "mean   2883.333333  23788.333333  260775.000000  \n",
       "std     584.595172   3718.169964   70143.659404  \n",
       "min    2000.000000  18715.000000  183800.000000  \n",
       "25%    2470.000000  21295.000000  211150.000000  \n",
       "50%    2840.000000  22755.000000  229850.000000  \n",
       "75%    3445.000000  25937.500000  297175.000000  \n",
       "max    3710.000000  30405.000000  413300.000000  "
      ]
     },
     "execution_count": 6,
     "metadata": {},
     "output_type": "execute_result"
    }
   ],
   "source": [
    "df_sales.describe()"
   ]
  },
  {
   "cell_type": "code",
   "execution_count": 7,
   "id": "280ad4a9-4c55-451d-9e24-fc0374a4545d",
   "metadata": {},
   "outputs": [],
   "source": [
    "# Оценка выбросов с использованием межквартильного размаха (IQR)"
   ]
  },
  {
   "cell_type": "code",
   "execution_count": 8,
   "id": "c7847059-273d-4042-956f-d10489e3417b",
   "metadata": {},
   "outputs": [],
   "source": [
    "Q1 = df_sales['Total Profit'].quantile(0.25)\n",
    "Q3 = df_sales['Total Profit'].quantile(0.75)\n",
    "IQR = Q3 - Q1"
   ]
  },
  {
   "cell_type": "code",
   "execution_count": 9,
   "id": "75fa6c11-90ee-44ff-a74f-a6fe600d38e2",
   "metadata": {},
   "outputs": [],
   "source": [
    "# Определение границ для выбросов"
   ]
  },
  {
   "cell_type": "code",
   "execution_count": 10,
   "id": "b048a72a-0fa4-4f25-b998-0785ecaf2dc9",
   "metadata": {},
   "outputs": [],
   "source": [
    "lower_bound = Q1 - 1.5 * IQR\n",
    "upper_bound = Q3 + 1.5 * IQR"
   ]
  },
  {
   "cell_type": "code",
   "execution_count": 11,
   "id": "7486bc3c-970e-4c00-80d9-1e1d239cbfe6",
   "metadata": {},
   "outputs": [],
   "source": [
    "# Удаление выбросов"
   ]
  },
  {
   "cell_type": "code",
   "execution_count": 12,
   "id": "f23bfc98-f995-4288-af20-42d4abc60d94",
   "metadata": {},
   "outputs": [],
   "source": [
    "cleaned_sales = df_sales[(df_sales['Total Profit'] >= lower_bound) & (df_sales['Total Profit'] <= upper_bound)]"
   ]
  },
  {
   "cell_type": "code",
   "execution_count": 20,
   "id": "c2ded476-eac0-4309-acf9-885fdb1fe6ce",
   "metadata": {},
   "outputs": [
    {
     "data": {
      "text/html": [
       "<div>\n",
       "<style scoped>\n",
       "    .dataframe tbody tr th:only-of-type {\n",
       "        vertical-align: middle;\n",
       "    }\n",
       "\n",
       "    .dataframe tbody tr th {\n",
       "        vertical-align: top;\n",
       "    }\n",
       "\n",
       "    .dataframe thead th {\n",
       "        text-align: right;\n",
       "    }\n",
       "</style>\n",
       "<table border=\"1\" class=\"dataframe\">\n",
       "  <thead>\n",
       "    <tr style=\"text-align: right;\">\n",
       "      <th></th>\n",
       "      <th>Month</th>\n",
       "      <th>Cream</th>\n",
       "      <th>Detergent</th>\n",
       "      <th>Moisturizer</th>\n",
       "      <th>Sanitizer</th>\n",
       "      <th>Shampoo</th>\n",
       "      <th>Soap</th>\n",
       "      <th>Total Units</th>\n",
       "      <th>Total Profit</th>\n",
       "    </tr>\n",
       "  </thead>\n",
       "  <tbody>\n",
       "    <tr>\n",
       "      <th>0</th>\n",
       "      <td>Jan</td>\n",
       "      <td>5100</td>\n",
       "      <td>9600</td>\n",
       "      <td>1525</td>\n",
       "      <td>1550</td>\n",
       "      <td>1200</td>\n",
       "      <td>2510</td>\n",
       "      <td>21485</td>\n",
       "      <td>211500</td>\n",
       "    </tr>\n",
       "    <tr>\n",
       "      <th>1</th>\n",
       "      <td>Feb</td>\n",
       "      <td>5000</td>\n",
       "      <td>6500</td>\n",
       "      <td>1225</td>\n",
       "      <td>1250</td>\n",
       "      <td>2100</td>\n",
       "      <td>2640</td>\n",
       "      <td>18715</td>\n",
       "      <td>183800</td>\n",
       "    </tr>\n",
       "    <tr>\n",
       "      <th>2</th>\n",
       "      <td>Mar</td>\n",
       "      <td>4450</td>\n",
       "      <td>9950</td>\n",
       "      <td>1365</td>\n",
       "      <td>1390</td>\n",
       "      <td>3550</td>\n",
       "      <td>2150</td>\n",
       "      <td>22855</td>\n",
       "      <td>225200</td>\n",
       "    </tr>\n",
       "    <tr>\n",
       "      <th>3</th>\n",
       "      <td>Apr</td>\n",
       "      <td>5770</td>\n",
       "      <td>9270</td>\n",
       "      <td>1155</td>\n",
       "      <td>1180</td>\n",
       "      <td>1870</td>\n",
       "      <td>3410</td>\n",
       "      <td>22655</td>\n",
       "      <td>223200</td>\n",
       "    </tr>\n",
       "    <tr>\n",
       "      <th>4</th>\n",
       "      <td>May</td>\n",
       "      <td>4460</td>\n",
       "      <td>8160</td>\n",
       "      <td>1765</td>\n",
       "      <td>1790</td>\n",
       "      <td>1560</td>\n",
       "      <td>3610</td>\n",
       "      <td>21345</td>\n",
       "      <td>210100</td>\n",
       "    </tr>\n",
       "    <tr>\n",
       "      <th>5</th>\n",
       "      <td>Jun</td>\n",
       "      <td>4790</td>\n",
       "      <td>7890</td>\n",
       "      <td>1580</td>\n",
       "      <td>1605</td>\n",
       "      <td>1890</td>\n",
       "      <td>2770</td>\n",
       "      <td>20525</td>\n",
       "      <td>201900</td>\n",
       "    </tr>\n",
       "    <tr>\n",
       "      <th>6</th>\n",
       "      <td>Jul</td>\n",
       "      <td>4680</td>\n",
       "      <td>9380</td>\n",
       "      <td>1145</td>\n",
       "      <td>1170</td>\n",
       "      <td>1780</td>\n",
       "      <td>2990</td>\n",
       "      <td>21145</td>\n",
       "      <td>296000</td>\n",
       "    </tr>\n",
       "    <tr>\n",
       "      <th>7</th>\n",
       "      <td>Aug</td>\n",
       "      <td>5760</td>\n",
       "      <td>10360</td>\n",
       "      <td>1425</td>\n",
       "      <td>1450</td>\n",
       "      <td>2860</td>\n",
       "      <td>3710</td>\n",
       "      <td>25565</td>\n",
       "      <td>361900</td>\n",
       "    </tr>\n",
       "    <tr>\n",
       "      <th>8</th>\n",
       "      <td>Sep</td>\n",
       "      <td>6000</td>\n",
       "      <td>8500</td>\n",
       "      <td>1805</td>\n",
       "      <td>1830</td>\n",
       "      <td>2100</td>\n",
       "      <td>3550</td>\n",
       "      <td>23785</td>\n",
       "      <td>234500</td>\n",
       "    </tr>\n",
       "    <tr>\n",
       "      <th>9</th>\n",
       "      <td>Oct</td>\n",
       "      <td>8200</td>\n",
       "      <td>10700</td>\n",
       "      <td>1915</td>\n",
       "      <td>1940</td>\n",
       "      <td>2300</td>\n",
       "      <td>2000</td>\n",
       "      <td>27055</td>\n",
       "      <td>267200</td>\n",
       "    </tr>\n",
       "    <tr>\n",
       "      <th>10</th>\n",
       "      <td>Nov</td>\n",
       "      <td>7200</td>\n",
       "      <td>13700</td>\n",
       "      <td>2125</td>\n",
       "      <td>2150</td>\n",
       "      <td>2400</td>\n",
       "      <td>2350</td>\n",
       "      <td>29925</td>\n",
       "      <td>413300</td>\n",
       "    </tr>\n",
       "    <tr>\n",
       "      <th>11</th>\n",
       "      <td>Dec</td>\n",
       "      <td>7300</td>\n",
       "      <td>14800</td>\n",
       "      <td>1785</td>\n",
       "      <td>1810</td>\n",
       "      <td>1800</td>\n",
       "      <td>2910</td>\n",
       "      <td>30405</td>\n",
       "      <td>300700</td>\n",
       "    </tr>\n",
       "  </tbody>\n",
       "</table>\n",
       "</div>"
      ],
      "text/plain": [
       "   Month  Cream  Detergent  Moisturizer  Sanitizer  Shampoo  Soap  \\\n",
       "0    Jan   5100       9600         1525       1550     1200  2510   \n",
       "1    Feb   5000       6500         1225       1250     2100  2640   \n",
       "2    Mar   4450       9950         1365       1390     3550  2150   \n",
       "3    Apr   5770       9270         1155       1180     1870  3410   \n",
       "4    May   4460       8160         1765       1790     1560  3610   \n",
       "5    Jun   4790       7890         1580       1605     1890  2770   \n",
       "6    Jul   4680       9380         1145       1170     1780  2990   \n",
       "7    Aug   5760      10360         1425       1450     2860  3710   \n",
       "8    Sep   6000       8500         1805       1830     2100  3550   \n",
       "9    Oct   8200      10700         1915       1940     2300  2000   \n",
       "10   Nov   7200      13700         2125       2150     2400  2350   \n",
       "11   Dec   7300      14800         1785       1810     1800  2910   \n",
       "\n",
       "    Total Units  Total Profit  \n",
       "0         21485        211500  \n",
       "1         18715        183800  \n",
       "2         22855        225200  \n",
       "3         22655        223200  \n",
       "4         21345        210100  \n",
       "5         20525        201900  \n",
       "6         21145        296000  \n",
       "7         25565        361900  \n",
       "8         23785        234500  \n",
       "9         27055        267200  \n",
       "10        29925        413300  \n",
       "11        30405        300700  "
      ]
     },
     "execution_count": 20,
     "metadata": {},
     "output_type": "execute_result"
    }
   ],
   "source": [
    "cleaned_sales"
   ]
  },
  {
   "cell_type": "code",
   "execution_count": 21,
   "id": "8c64c9c8-8821-421c-80ba-d38b74bf321d",
   "metadata": {},
   "outputs": [],
   "source": [
    "# Выбор количественных переменных"
   ]
  },
  {
   "cell_type": "code",
   "execution_count": 23,
   "id": "b6e44d93-fcd3-4621-b45b-5e11443bcc6f",
   "metadata": {},
   "outputs": [],
   "source": [
    "TotalProfit = cleaned_sales['Total Profit']\n",
    "TotalUnits = cleaned_sales['Total Units']"
   ]
  },
  {
   "cell_type": "code",
   "execution_count": 24,
   "id": "0c6dc60a-55ff-4a3b-a61d-301d2e225c69",
   "metadata": {},
   "outputs": [],
   "source": [
    "# Функция для расчета 95% доверительного интервала"
   ]
  },
  {
   "cell_type": "code",
   "execution_count": 25,
   "id": "0fd1265d-836d-4294-9c98-c1c5b9cba5a2",
   "metadata": {},
   "outputs": [],
   "source": [
    "def confidence_interval(cleaned_sales):\n",
    "    mean = np.mean(cleaned_sales)\n",
    "    std_err = stats.sem(cleaned_sales)\n",
    "    h = std_err * stats.t.ppf((1 + 0.95) / 2., len(cleaned_sales)-1)\n",
    "    return mean - h, mean + h"
   ]
  },
  {
   "cell_type": "code",
   "execution_count": 28,
   "id": "e1cee573-f7d6-4cb7-961a-13e0ec534e78",
   "metadata": {},
   "outputs": [],
   "source": [
    "# Расчет доверительных интервалов"
   ]
  },
  {
   "cell_type": "code",
   "execution_count": 37,
   "id": "8a776a0a-d07e-4889-bb48-c01b82b7981e",
   "metadata": {},
   "outputs": [],
   "source": [
    "ci_TotalProfit = confidence_interval(TotalProfit)\n",
    "ci_TotalUnits = confidence_interval(TotalUnits)"
   ]
  },
  {
   "cell_type": "code",
   "execution_count": 44,
   "id": "8c829fa0-161e-45d8-b158-12c2e5087f28",
   "metadata": {},
   "outputs": [
    {
     "name": "stdout",
     "output_type": "stream",
     "text": [
      "95% доверительный интервал для TotalProfit: (216207.8450566058, 305342.1549433942)\n",
      "95% доверительный интервал для TotalUnits: (21425.920846079192, 26150.745820587472)\n"
     ]
    }
   ],
   "source": [
    "print(f\"95% доверительный интервал для TotalProfit: {ci_TotalProfit}\")\n",
    "print(f\"95% доверительный интервал для TotalUnits: {ci_TotalUnits}\")"
   ]
  },
  {
   "cell_type": "code",
   "execution_count": 46,
   "id": "3affd7e1-22ee-41d0-9fa2-10f2a6f497c1",
   "metadata": {},
   "outputs": [],
   "source": [
    "# 95% доверительный интервал для \"Total Profit\" означает, что есть 95% вероятность, что истинное среднее значение дохода всех продаж находится в указанном интервале. \n",
    "# Аналогично, для \"Total Units\" мы можем быть уверены, что истиннее среднее количество проданных товаров попадает в свой интервал."
   ]
  },
  {
   "cell_type": "code",
   "execution_count": 47,
   "id": "7805f963-b624-4b81-b132-1c6208432b60",
   "metadata": {},
   "outputs": [],
   "source": [
    "# Извлекаем переменные\n",
    "total_units = cleaned_sales['Total Units']\n",
    "total_profit = cleaned_sales['Total Profit']"
   ]
  },
  {
   "cell_type": "code",
   "execution_count": 51,
   "id": "ecf575aa-f063-46f3-a9e9-1b8e30f0b9ec",
   "metadata": {},
   "outputs": [
    {
     "name": "stdout",
     "output_type": "stream",
     "text": [
      "Шапиро-Уилка для Total Units: ShapiroResult(statistic=0.9157517987805558, pvalue=0.25264833001505294)\n"
     ]
    }
   ],
   "source": [
    "# Тест Шапиро-Уилка для Total Units\n",
    "shapiro_units = stats.shapiro(total_units)\n",
    "print('Шапиро-Уилка для Total Units:', shapiro_units)"
   ]
  },
  {
   "cell_type": "code",
   "execution_count": 53,
   "id": "c6dc8c0f-3b69-416b-b678-f67c3fa626e4",
   "metadata": {},
   "outputs": [
    {
     "name": "stdout",
     "output_type": "stream",
     "text": [
      "Шапиро-Уилка для Total Profit: ShapiroResult(statistic=0.8770527178714643, pvalue=0.08035784648784781)\n"
     ]
    }
   ],
   "source": [
    "# Тест Шапиро-Уилка для Total Profit\n",
    "shapiro_profit = stats.shapiro(total_profit)\n",
    "print('Шапиро-Уилка для Total Profit:', shapiro_profit)"
   ]
  },
  {
   "cell_type": "code",
   "execution_count": 55,
   "id": "2bc3db58-86a2-4db1-854f-5b1ad6575b4b",
   "metadata": {},
   "outputs": [
    {
     "data": {
      "text/plain": [
       "<Figure size 1200x500 with 0 Axes>"
      ]
     },
     "execution_count": 55,
     "metadata": {},
     "output_type": "execute_result"
    },
    {
     "data": {
      "text/plain": [
       "<Figure size 1200x500 with 0 Axes>"
      ]
     },
     "metadata": {},
     "output_type": "display_data"
    }
   ],
   "source": [
    "# Построение гистограмм\n",
    "plt.figure(figsize=(12, 5))"
   ]
  },
  {
   "cell_type": "code",
   "execution_count": 57,
   "id": "d010f89e-56d2-4524-b6f9-1dd876df41f1",
   "metadata": {},
   "outputs": [
    {
     "data": {
      "text/plain": [
       "Text(0.5, 1.0, 'Гистограмма Total Units')"
      ]
     },
     "execution_count": 57,
     "metadata": {},
     "output_type": "execute_result"
    },
    {
     "data": {
      "image/png": "[encoded data removed]",
      "text/plain": [
       "<Figure size 640x480 with 1 Axes>"
      ]
     },
     "metadata": {},
     "output_type": "display_data"
    }
   ],
   "source": [
    "plt.subplot(1, 2, 1)\n",
    "plt.hist(total_units, bins=20, edgecolor='black')\n",
    "plt.title('Гистограмма Total Units')"
   ]
  },
  {
   "cell_type": "code",
   "execution_count": 59,
   "id": "29cb5337-d0c4-4029-84c2-ece853ac1a82",
   "metadata": {},
   "outputs": [
    {
     "data": {
      "text/plain": [
       "Text(0.5, 1.0, 'Гистограмма Total Profit')"
      ]
     },
     "execution_count": 59,
     "metadata": {},
     "output_type": "execute_result"
    },
    {
     "data": {
      "image/png": "[encoded data removed]",
      "text/plain": [
       "<Figure size 640x480 with 1 Axes>"
      ]
     },
     "metadata": {},
     "output_type": "display_data"
    }
   ],
   "source": [
    "plt.subplot(1, 2, 2)\n",
    "plt.hist(total_profit, bins=20, edgecolor='black')\n",
    "plt.title('Гистограмма Total Profit')"
   ]
  },
  {
   "cell_type": "code",
   "execution_count": 61,
   "id": "ef476cc9-a615-4f70-afb5-e42b4b4f0584",
   "metadata": {},
   "outputs": [],
   "source": [
    "# Если p-значение теста Шапиро-Уилка меньше 0.05, то распределение не нормальное. \n",
    "# Гистограммы и Q-Q графики также помогут визуально оценить нормальность. Если распределение симметрично и напоминает колокол, это может свидетельствовать о нормальности."
   ]
  },
  {
   "cell_type": "code",
   "execution_count": 63,
   "id": "75e7c2f4-f792-42ad-8a93-95fb904f024b",
   "metadata": {},
   "outputs": [
    {
     "name": "stdout",
     "output_type": "stream",
     "text": [
      "Результат t-тест, p-значение: 6.589120161957625e-11\n"
     ]
    }
   ],
   "source": [
    "# Проверка на нормальность с использованием p-значений\n",
    "alpha = 0.05\n",
    "if shapiro_units.pvalue > alpha and shapiro_profit.pvalue > alpha:\n",
    "    # Используем двувыборочный t-тест\n",
    "    t_stat, p_value = stats.ttest_ind(total_units, total_profit)\n",
    "    test_type = 't-тест'\n",
    "else:\n",
    "    # Используем тест Манна-Уитни\n",
    "    u_stat, p_value = stats.mannwhitneyu(total_units, total_profit)\n",
    "    test_type = 'тест Манна-Уитни'\n",
    "\n",
    "print(f'Результат {test_type}, p-значение: {p_value}')"
   ]
  },
  {
   "cell_type": "code",
   "execution_count": 65,
   "id": "fcca58cd-5fb7-47a6-969c-af7db62b015b",
   "metadata": {},
   "outputs": [],
   "source": [
    "# В зависимости от p-значений для каждой группы, выбирается между двувыборочным t-тестом или тестом Манна-Уитни для проверки гипотезы о равенстве математических ожиданий."
   ]
  },
  {
   "cell_type": "code",
   "execution_count": 67,
   "id": "29e305b6-320e-4ff3-b924-e572cdd6a320",
   "metadata": {},
   "outputs": [
    {
     "data": {
      "image/png": "[encoded data removed]",
      "text/plain": [
       "<Figure size 1000x600 with 1 Axes>"
      ]
     },
     "metadata": {},
     "output_type": "display_data"
    }
   ],
   "source": [
    "# Строим точечную диаграмму\n",
    "plt.figure(figsize=(10, 6))\n",
    "sns.scatterplot(x='Total Units', y='Total Profit', data=cleaned_sales)\n",
    "plt.title('Точечная диаграмма между Total Units и Total Profit')\n",
    "plt.xlabel('Total Units')\n",
    "plt.ylabel('Total Profit')\n",
    "plt.grid()\n",
    "plt.show()"
   ]
  },
  {
   "cell_type": "code",
   "execution_count": 69,
   "id": "4fbcc332-4435-4137-a343-358be2feadda",
   "metadata": {},
   "outputs": [
    {
     "name": "stdout",
     "output_type": "stream",
     "text": [
      "Коэффициент корреляции: 0.7680890631902555\n"
     ]
    }
   ],
   "source": [
    "# Оцениваем корреляцию\n",
    "correlation = cleaned_sales['Total Units'].corr(cleaned_sales['Total Profit'])\n",
    "print(f'Коэффициент корреляции: {correlation}')"
   ]
  },
  {
   "cell_type": "code",
   "execution_count": 71,
   "id": "8505ec59-0861-4a58-81de-9edc952fdf8a",
   "metadata": {},
   "outputs": [],
   "source": [
    "# Получаем точечную диаграмму, которая поможет визуализировать взаимосвязь между Total Units и Total Profit. \n",
    "# Коэффициент корреляции указывает на степень линейной зависимости между этими переменными. Если коэффициент близок к 1 или -1, то имеется сильная корреляция; если близок к 0, корреляция слаба."
   ]
  },
  {
   "cell_type": "code",
   "execution_count": 73,
   "id": "ae27e412-f654-43d9-826b-42bbcad36310",
   "metadata": {},
   "outputs": [],
   "source": [
    "# Выбираем нужные переменные\n",
    "X = cleaned_sales[['Total Units']]\n",
    "y = cleaned_sales['Total Profit']"
   ]
  },
  {
   "cell_type": "code",
   "execution_count": 79,
   "id": "173cc8c6-5dc0-4008-b2b7-ca3cf02c6400",
   "metadata": {},
   "outputs": [],
   "source": [
    "# Добавление константы для модели\n",
    "X = sm.add_constant(X)"
   ]
  },
  {
   "cell_type": "code",
   "execution_count": 81,
   "id": "d77ba3b6-700c-4d81-a90d-f210fa3bf580",
   "metadata": {},
   "outputs": [],
   "source": [
    "# Построение модели линейной регрессии\n",
    "model = sm.OLS(y, X).fit()"
   ]
  },
  {
   "cell_type": "code",
   "execution_count": 83,
   "id": "e9a326a8-6928-4526-b07d-6620d55413f6",
   "metadata": {},
   "outputs": [
    {
     "name": "stdout",
     "output_type": "stream",
     "text": [
      "                            OLS Regression Results                            \n",
      "==============================================================================\n",
      "Dep. Variable:           Total Profit   R-squared:                       0.590\n",
      "Model:                            OLS   Adj. R-squared:                  0.549\n",
      "Method:                 Least Squares   F-statistic:                     14.39\n",
      "Date:                Tue, 26 Nov 2024   Prob (F-statistic):            0.00353\n",
      "Time:                        10:04:54   Log-Likelihood:                -145.06\n",
      "No. Observations:                  12   AIC:                             294.1\n",
      "Df Residuals:                      10   BIC:                             295.1\n",
      "Df Model:                           1                                         \n",
      "Covariance Type:            nonrobust                                         \n",
      "===============================================================================\n",
      "                  coef    std err          t      P>|t|      [0.025      0.975]\n",
      "-------------------------------------------------------------------------------\n",
      "const       -8.392e+04   9.19e+04     -0.913      0.383   -2.89e+05    1.21e+05\n",
      "Total Units    14.4901      3.820      3.793      0.004       5.978      23.002\n",
      "==============================================================================\n",
      "Omnibus:                        2.359   Durbin-Watson:                   1.963\n",
      "Prob(Omnibus):                  0.307   Jarque-Bera (JB):                1.674\n",
      "Skew:                           0.830   Prob(JB):                        0.433\n",
      "Kurtosis:                       2.230   Cond. No.                     1.63e+05\n",
      "==============================================================================\n",
      "\n",
      "Notes:\n",
      "[1] Standard Errors assume that the covariance matrix of the errors is correctly specified.\n",
      "[2] The condition number is large, 1.63e+05. This might indicate that there are\n",
      "strong multicollinearity or other numerical problems.\n"
     ]
    },
    {
     "name": "stderr",
     "output_type": "stream",
     "text": [
      "/usr/local/anaconda3/lib/python3.12/site-packages/scipy/stats/_axis_nan_policy.py:531: UserWarning: kurtosistest only valid for n>=20 ... continuing anyway, n=12\n",
      "  res = hypotest_fun_out(*samples, **kwds)\n"
     ]
    }
   ],
   "source": [
    "# Вывод результатов модели\n",
    "print(model.summary())"
   ]
  },
  {
   "cell_type": "code",
   "execution_count": 85,
   "id": "94f25698-075f-4c3e-811c-57b22c18801a",
   "metadata": {},
   "outputs": [],
   "source": [
    "# Прогнозирование\n",
    "predictions = model.predict(X)"
   ]
  },
  {
   "cell_type": "code",
   "execution_count": 89,
   "id": "562f8555-d536-4579-b2a9-3f8b8ea671d7",
   "metadata": {},
   "outputs": [
    {
     "data": {
      "image/png": "[encoded data removed]",
      "text/plain": [
       "<Figure size 640x480 with 1 Axes>"
      ]
     },
     "metadata": {},
     "output_type": "display_data"
    }
   ],
   "source": [
    "# Визуализация\n",
    "plt.scatter(cleaned_sales['Total Units'], cleaned_sales['Total Profit'], color='blue', label='Данные')\n",
    "plt.plot(cleaned_sales['Total Units'], predictions, color='red', label='Регрессионная линия')\n",
    "plt.title('Линейная регрессия: Общие продажи против общего дохода')\n",
    "plt.xlabel('Общие продажи')\n",
    "plt.ylabel('Общий доход')\n",
    "plt.legend()\n",
    "plt.show()"
   ]
  },
  {
   "cell_type": "code",
   "execution_count": null,
   "id": "07a26d86-d9af-47d2-ab73-113fe9970fc2",
   "metadata": {},
   "outputs": [],
   "source": [
    "# Вывод: Модель показывает значительную связь между общими продажами и общим доходом, позволяя делать прогнозы о доходах на основе объема продаж."
   ]
  }
 ],
 "metadata": {
  "kernelspec": {
   "display_name": "Python 3 (ipykernel)",
   "language": "python",
   "name": "python3"
  },
  "language_info": {
   "codemirror_mode": {
    "name": "ipython",
    "version": 3
   },
   "file_extension": ".py",
   "mimetype": "text/x-python",
   "name": "python",
   "nbconvert_exporter": "python",
   "pygments_lexer": "ipython3",
   "version": "3.12.4"
  }
 },
 "nbformat": 4,
 "nbformat_minor": 5
}
