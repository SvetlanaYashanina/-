{
  "cells": [
    {
      "cell_type": "code",
      "execution_count": null,
      "id": "2198d80f-13f4-4ec9-a1e2-c42512f33aa1",
      "metadata": {
        "id": "2198d80f-13f4-4ec9-a1e2-c42512f33aa1",
        "outputId": "5e4c2e41-5cb7-439b-d064-4ecab9646fc0"
      },
      "outputs": [
        {
          "name": "stdout",
          "output_type": "stream",
          "text": [
            "Requirement already satisfied: statsmodels in d:\\anacoda\\lib\\site-packages (0.14.4)\n",
            "Requirement already satisfied: numpy<3,>=1.22.3 in d:\\anacoda\\lib\\site-packages (from statsmodels) (1.26.4)\n",
            "Requirement already satisfied: scipy!=1.9.2,>=1.8 in d:\\anacoda\\lib\\site-packages (from statsmodels) (1.14.1)\n",
            "Requirement already satisfied: pandas!=2.1.0,>=1.4 in d:\\anacoda\\lib\\site-packages (from statsmodels) (2.2.2)\n",
            "Requirement already satisfied: patsy>=0.5.6 in d:\\anacoda\\lib\\site-packages (from statsmodels) (1.0.1)\n",
            "Requirement already satisfied: packaging>=21.3 in d:\\anacoda\\lib\\site-packages (from statsmodels) (23.2)\n",
            "Requirement already satisfied: python-dateutil>=2.8.2 in d:\\anacoda\\lib\\site-packages (from pandas!=2.1.0,>=1.4->statsmodels) (2.9.0.post0)\n",
            "Requirement already satisfied: pytz>=2020.1 in d:\\anacoda\\lib\\site-packages (from pandas!=2.1.0,>=1.4->statsmodels) (2024.1)\n",
            "Requirement already satisfied: tzdata>=2022.7 in d:\\anacoda\\lib\\site-packages (from pandas!=2.1.0,>=1.4->statsmodels) (2023.3)\n",
            "Requirement already satisfied: six>=1.5 in d:\\anacoda\\lib\\site-packages (from python-dateutil>=2.8.2->pandas!=2.1.0,>=1.4->statsmodels) (1.16.0)\n",
            "Note: you may need to restart the kernel to use updated packages.\n"
          ]
        }
      ],
      "source": [
        "pip install statsmodels"
      ]
    },
    {
      "cell_type": "code",
      "execution_count": null,
      "id": "af66e22a",
      "metadata": {
        "id": "af66e22a"
      },
      "outputs": [],
      "source": [
        "import pandas as pd\n",
        "import statsmodels.api as sm"
      ]
    },
    {
      "cell_type": "markdown",
      "id": "7267d662",
      "metadata": {
        "id": "7267d662"
      },
      "source": [
        "### Загружаем данные"
      ]
    },
    {
      "cell_type": "code",
      "execution_count": null,
      "id": "6b59ffa7",
      "metadata": {
        "id": "6b59ffa7",
        "outputId": "69f189b9-9bf8-49eb-cadb-4d05deb6037b"
      },
      "outputs": [
        {
          "data": {
            "text/html": [
              "<div>\n",
              "<style scoped>\n",
              "    .dataframe tbody tr th:only-of-type {\n",
              "        vertical-align: middle;\n",
              "    }\n",
              "\n",
              "    .dataframe tbody tr th {\n",
              "        vertical-align: top;\n",
              "    }\n",
              "\n",
              "    .dataframe thead th {\n",
              "        text-align: right;\n",
              "    }\n",
              "</style>\n",
              "<table border=\"1\" class=\"dataframe\">\n",
              "  <thead>\n",
              "    <tr style=\"text-align: right;\">\n",
              "      <th></th>\n",
              "      <th>ofp</th>\n",
              "      <th>ofnp</th>\n",
              "      <th>opp</th>\n",
              "      <th>opnp</th>\n",
              "      <th>emr</th>\n",
              "      <th>hosp</th>\n",
              "      <th>numchron</th>\n",
              "      <th>adldiff</th>\n",
              "      <th>age</th>\n",
              "      <th>black</th>\n",
              "      <th>sex</th>\n",
              "      <th>maried</th>\n",
              "      <th>school</th>\n",
              "      <th>faminc</th>\n",
              "      <th>employed</th>\n",
              "      <th>privins</th>\n",
              "      <th>medicaid</th>\n",
              "      <th>region</th>\n",
              "      <th>hlth</th>\n",
              "    </tr>\n",
              "  </thead>\n",
              "  <tbody>\n",
              "    <tr>\n",
              "      <th>0</th>\n",
              "      <td>5</td>\n",
              "      <td>0</td>\n",
              "      <td>0</td>\n",
              "      <td>0</td>\n",
              "      <td>0</td>\n",
              "      <td>1</td>\n",
              "      <td>2</td>\n",
              "      <td>0</td>\n",
              "      <td>6.9</td>\n",
              "      <td>yes</td>\n",
              "      <td>male</td>\n",
              "      <td>yes</td>\n",
              "      <td>6</td>\n",
              "      <td>2.8810</td>\n",
              "      <td>yes</td>\n",
              "      <td>yes</td>\n",
              "      <td>no</td>\n",
              "      <td>other</td>\n",
              "      <td>other</td>\n",
              "    </tr>\n",
              "    <tr>\n",
              "      <th>1</th>\n",
              "      <td>1</td>\n",
              "      <td>0</td>\n",
              "      <td>2</td>\n",
              "      <td>0</td>\n",
              "      <td>2</td>\n",
              "      <td>0</td>\n",
              "      <td>2</td>\n",
              "      <td>0</td>\n",
              "      <td>7.4</td>\n",
              "      <td>no</td>\n",
              "      <td>female</td>\n",
              "      <td>yes</td>\n",
              "      <td>10</td>\n",
              "      <td>2.7478</td>\n",
              "      <td>no</td>\n",
              "      <td>yes</td>\n",
              "      <td>no</td>\n",
              "      <td>other</td>\n",
              "      <td>other</td>\n",
              "    </tr>\n",
              "    <tr>\n",
              "      <th>2</th>\n",
              "      <td>13</td>\n",
              "      <td>0</td>\n",
              "      <td>0</td>\n",
              "      <td>0</td>\n",
              "      <td>3</td>\n",
              "      <td>3</td>\n",
              "      <td>4</td>\n",
              "      <td>1</td>\n",
              "      <td>6.6</td>\n",
              "      <td>yes</td>\n",
              "      <td>female</td>\n",
              "      <td>no</td>\n",
              "      <td>10</td>\n",
              "      <td>0.6532</td>\n",
              "      <td>no</td>\n",
              "      <td>no</td>\n",
              "      <td>yes</td>\n",
              "      <td>other</td>\n",
              "      <td>poor</td>\n",
              "    </tr>\n",
              "    <tr>\n",
              "      <th>3</th>\n",
              "      <td>16</td>\n",
              "      <td>0</td>\n",
              "      <td>5</td>\n",
              "      <td>0</td>\n",
              "      <td>1</td>\n",
              "      <td>1</td>\n",
              "      <td>2</td>\n",
              "      <td>1</td>\n",
              "      <td>7.6</td>\n",
              "      <td>no</td>\n",
              "      <td>male</td>\n",
              "      <td>yes</td>\n",
              "      <td>3</td>\n",
              "      <td>0.6588</td>\n",
              "      <td>no</td>\n",
              "      <td>yes</td>\n",
              "      <td>no</td>\n",
              "      <td>other</td>\n",
              "      <td>poor</td>\n",
              "    </tr>\n",
              "    <tr>\n",
              "      <th>4</th>\n",
              "      <td>3</td>\n",
              "      <td>0</td>\n",
              "      <td>0</td>\n",
              "      <td>0</td>\n",
              "      <td>0</td>\n",
              "      <td>0</td>\n",
              "      <td>2</td>\n",
              "      <td>1</td>\n",
              "      <td>7.9</td>\n",
              "      <td>no</td>\n",
              "      <td>female</td>\n",
              "      <td>yes</td>\n",
              "      <td>6</td>\n",
              "      <td>0.6588</td>\n",
              "      <td>no</td>\n",
              "      <td>yes</td>\n",
              "      <td>no</td>\n",
              "      <td>other</td>\n",
              "      <td>other</td>\n",
              "    </tr>\n",
              "  </tbody>\n",
              "</table>\n",
              "</div>"
            ],
            "text/plain": [
              "   ofp  ofnp  opp  opnp  emr  hosp  numchron  adldiff  age black     sex  \\\n",
              "0    5     0    0     0    0     1         2        0  6.9   yes    male   \n",
              "1    1     0    2     0    2     0         2        0  7.4    no  female   \n",
              "2   13     0    0     0    3     3         4        1  6.6   yes  female   \n",
              "3   16     0    5     0    1     1         2        1  7.6    no    male   \n",
              "4    3     0    0     0    0     0         2        1  7.9    no  female   \n",
              "\n",
              "  maried  school  faminc employed privins medicaid region   hlth  \n",
              "0    yes       6  2.8810      yes     yes       no  other  other  \n",
              "1    yes      10  2.7478       no     yes       no  other  other  \n",
              "2     no      10  0.6532       no      no      yes  other   poor  \n",
              "3    yes       3  0.6588       no     yes       no  other   poor  \n",
              "4    yes       6  0.6588       no     yes       no  other  other  "
            ]
          },
          "execution_count": 10,
          "metadata": {},
          "output_type": "execute_result"
        }
      ],
      "source": [
        "item = 'OFP' # Выбрать из поля Item для вашего датасета\n",
        "package = 'Ecdat' # Выбрать из поля Package для вашего датасета\n",
        "\n",
        "df = sm.datasets.get_rdataset(item, package , cache=True).data\n",
        "df.head()"
      ]
    },
    {
      "cell_type": "markdown",
      "id": "4b64630d",
      "metadata": {
        "id": "4b64630d"
      },
      "source": [
        "### Далее идет ваше решение"
      ]
    },
    {
      "cell_type": "markdown",
      "id": "95cd0e77",
      "metadata": {
        "id": "95cd0e77"
      },
      "source": [
        "Задание\n",
        "\n",
        "1) Изучите внимательно ваш датасет и смысл переменных, которые в нем содержатся\n",
        "\n",
        "2) Сформулируйте на базе переменных три вида гипотез:\n",
        "    а) Выберите две категориальные переменные и сформулируйте гипотезу об их взаимосвязи\n",
        "    б) Выберите одну категориальную и одну числовую переменную и сформулируйте гипотезу об их взаимосвязи\n",
        "    в) Выберите две числовые переменные и сформулируйте гипотезу об их взаимосвязи\n",
        "    \n",
        "3) Для каждой гипотезы постарайтесь привести логический смысл, почему вы считаете, что эта взаимосвязь должна существовать и какую форму взаимосвязи вы ожидаете. Что это дает с практической точки зрения?\n",
        "\n",
        "4) Для выбранных переменных проведите разведочный анализ данных. Приведите наиболее подходящие описательные статистики, частотные распределения, постройте графики, которые бы давали представление как о переменных по отдельности, так и об их взаимосвязи\n",
        "\n",
        "5) Проведите очистку данных от пропусков, выбросов и некорректных значений любым выбранным способом. Постарайтесь обосновать этот способ.\n",
        "\n",
        "6) Протестируйте распределение числовой переменной на соответствие нормальному. Постройте QQ-plot и гистограмму.\n",
        "\n",
        "7) Проведите тесты гипотез из пункта (2) и сделайте выводы. Какой практический смысл имеют результаты проведенных тестов? Как их можно использовать?\n",
        "\n",
        "8) Результат сохранить на GitHub и отправить в виде ссылки на файл + блокнота в формате ipynb\n",
        "\n",
        "Помните, что просто посчитать - это половина задания. К каждому шагу нужны пояснения и описания. Старайтесь структурировать ваш код, чтобы он был понятен стороннуму пользователю!"
      ]
    },
    {
      "cell_type": "code",
      "execution_count": null,
      "id": "1aefee7b-4225-4049-acc4-631dfebe0ebd",
      "metadata": {
        "id": "1aefee7b-4225-4049-acc4-631dfebe0ebd"
      },
      "outputs": [],
      "source": [
        "# а) Две категориальные переменные: Пол (Sex) и Наличие медицинской страховки (privins).\n",
        "# Гипотеза об их взаимосвязи:\n",
        "# Существует статистически значимая взаимосвязь между полом человека и наличием медицинской страховки, при этом женщины с большей вероятностью обладают медицинской страховкой по сравнению с мужчинами.\n",
        "# Эта гипотеза подразумевает, что пол может быть фактором, влияющим на доступность или выбор медицинской страховки, и ее можно проверить с помощью статистического анализа данных о наличии страховки среди мужчин и женщин."
      ]
    },
    {
      "cell_type": "code",
      "execution_count": null,
      "id": "132656f3-7a39-495d-9921-cfd390888795",
      "metadata": {
        "id": "132656f3-7a39-495d-9921-cfd390888795"
      },
      "outputs": [],
      "source": [
        "# б) Одна категориальная переменная: Трудоустроен человек или нет (employed).\n",
        "#    Одна числовая переменная: Количество визитов к врачу (ofp).\n",
        "# Гипотеза об их взаимосвязи:\n",
        "# Люди, имеющие постоянную работу, посещают врача реже, чем безработные, из-за более стабильного дохода и доступа к медицинским услугам, а также меньшего уровня стрессов и психологических проблем, связанных с финансовой нестабильностью.\n",
        "# Эта гипотеза предполагает, что наличие работы может влиять на частоту обращений к врачу, что в свою очередь может быть связано с финансовыми возможностями, уровнем стресса и общей удовлетворенностью жизнью."
      ]
    },
    {
      "cell_type": "code",
      "execution_count": null,
      "id": "372a9e94-697d-4991-a457-e8310bbe5b13",
      "metadata": {
        "id": "372a9e94-697d-4991-a457-e8310bbe5b13"
      },
      "outputs": [],
      "source": [
        "# в) Две числовые переменные: Возраст (age) и Количество хронических заболеваний (numchron).\n",
        "# Гипотеза об их взаимосвязи:\n",
        "# С увеличением возраста человека наблюдается увеличение количества хронических заболеваний, что связано с возрастными изменениями в организме, снижением иммунной функции и накоплением факторов риска в течение жизни."
      ]
    },
    {
      "cell_type": "code",
      "execution_count": null,
      "id": "6006d867-7a6a-4816-b8cb-9411b8dbaf81",
      "metadata": {
        "id": "6006d867-7a6a-4816-b8cb-9411b8dbaf81"
      },
      "outputs": [],
      "source": [
        "import seaborn as sns\n",
        "import matplotlib.pyplot as plt"
      ]
    },
    {
      "cell_type": "code",
      "execution_count": null,
      "id": "e91a7754-8999-4028-bd81-a5ee277f02b0",
      "metadata": {
        "id": "e91a7754-8999-4028-bd81-a5ee277f02b0"
      },
      "outputs": [],
      "source": [
        "# а) Две категориальные переменные: Пол (Sex) и Наличие медицинской страховки (privins)."
      ]
    },
    {
      "cell_type": "code",
      "execution_count": null,
      "id": "5bd70e45-aea9-436a-bdfc-e9342391b419",
      "metadata": {
        "id": "5bd70e45-aea9-436a-bdfc-e9342391b419",
        "outputId": "28ece5b7-3647-4f21-ee4d-26042ae28881"
      },
      "outputs": [
        {
          "name": "stdout",
          "output_type": "stream",
          "text": [
            "Частотное распределение переменной Sex:\n",
            "sex\n",
            "female    2628\n",
            "male      1778\n",
            "Name: count, dtype: int64\n"
          ]
        }
      ],
      "source": [
        "# Описательные статистики для переменной 'Sex'\n",
        "sex_stats = df['sex'].value_counts()\n",
        "print(\"Частотное распределение переменной Sex:\")\n",
        "print(sex_stats)"
      ]
    },
    {
      "cell_type": "code",
      "execution_count": null,
      "id": "53aee3cd-b56a-4483-aa3c-b48d4b8c22f9",
      "metadata": {
        "id": "53aee3cd-b56a-4483-aa3c-b48d4b8c22f9",
        "outputId": "fac52f61-5d6d-461d-b29a-467b2f5f4d8e"
      },
      "outputs": [
        {
          "name": "stdout",
          "output_type": "stream",
          "text": [
            "\\nОписательные статистики для переменной privins:\n",
            "count     4406\n",
            "unique       2\n",
            "top        yes\n",
            "freq      3421\n",
            "Name: privins, dtype: object\n"
          ]
        }
      ],
      "source": [
        "# Описательные статистики для переменной 'privins'\n",
        "privins_stats = df['privins'].describe()\n",
        "print(\"\\\\nОписательные статистики для переменной privins:\")\n",
        "print(privins_stats)"
      ]
    },
    {
      "cell_type": "code",
      "execution_count": null,
      "id": "794ae58a-ee5a-497a-b6ac-4bbce9d88a1b",
      "metadata": {
        "id": "794ae58a-ee5a-497a-b6ac-4bbce9d88a1b",
        "outputId": "d594b352-a2e7-44e6-b988-c339cb2080a9"
      },
      "outputs": [
        {
          "data": {
            "image/png": "[encoded data removed]",
            "text/plain": [
              "<Figure size 1000x500 with 1 Axes>"
            ]
          },
          "metadata": {},
          "output_type": "display_data"
        }
      ],
      "source": [
        "# График частотного распределения Sex\n",
        "plt.figure(figsize=(10, 5))\n",
        "sns.countplot(x='sex', data=df)\n",
        "plt.title('Частотное распределение по переменной Sex')\n",
        "plt.show()"
      ]
    },
    {
      "cell_type": "code",
      "execution_count": null,
      "id": "6b428b8f-69dc-44de-bdb5-49b1ade8fc1e",
      "metadata": {
        "id": "6b428b8f-69dc-44de-bdb5-49b1ade8fc1e",
        "outputId": "2a89c5a5-aba3-4267-a718-3cd01158e1fe"
      },
      "outputs": [
        {
          "data": {
            "image/png": "[encoded data removed]",
            "text/plain": [
              "<Figure size 1000x400 with 1 Axes>"
            ]
          },
          "metadata": {},
          "output_type": "display_data"
        }
      ],
      "source": [
        "# Построим график для переменной privins\n",
        "plt.figure(figsize=(10, 4))\n",
        "sns.countplot(x='privins', data=df)\n",
        "plt.title('Распределение по наличию страховки')\n",
        "plt.show()"
      ]
    },
    {
      "cell_type": "code",
      "execution_count": null,
      "id": "68984007-c9fa-4786-afd2-052f5832f4fa",
      "metadata": {
        "id": "68984007-c9fa-4786-afd2-052f5832f4fa",
        "outputId": "15345ddf-1b97-4efe-ddf4-f5fa91452d62"
      },
      "outputs": [
        {
          "data": {
            "image/png": "[encoded data removed]",
            "text/plain": [
              "<Figure size 1000x600 with 1 Axes>"
            ]
          },
          "metadata": {},
          "output_type": "display_data"
        }
      ],
      "source": [
        "# Построим график взаимосвязи\n",
        "plt.figure(figsize=(10, 6))\n",
        "sns.countplot(x='sex', hue='privins', data=df)\n",
        "plt.title('Взаимосвязь между полом и наличием страховки')\n",
        "plt.legend(title='Cтраховка')\n",
        "plt.show()"
      ]
    },
    {
      "cell_type": "code",
      "execution_count": null,
      "id": "70470e50-b243-4037-b8ec-1078912b9ea8",
      "metadata": {
        "id": "70470e50-b243-4037-b8ec-1078912b9ea8"
      },
      "outputs": [],
      "source": [
        "# б) Одна категориальная переменная: Трудоустроен человек или нет (employed);\n",
        "#    Одна числовая переменная: Количество визитов к врачу (ofp)."
      ]
    },
    {
      "cell_type": "code",
      "execution_count": null,
      "id": "decaa9a8-2b5f-429f-8641-182334e9201b",
      "metadata": {
        "id": "decaa9a8-2b5f-429f-8641-182334e9201b",
        "outputId": "42a1ce00-190a-43ae-b3dd-63bf563217c1"
      },
      "outputs": [
        {
          "name": "stdout",
          "output_type": "stream",
          "text": [
            "Описательные статистики переменной 'employed':\n",
            "count     4406\n",
            "unique       2\n",
            "top         no\n",
            "freq      3951\n",
            "Name: employed, dtype: object\n"
          ]
        }
      ],
      "source": [
        "# Описательные статистики для переменных employed и ofp\n",
        "print(\"Описательные статистики переменной 'employed':\")\n",
        "print(df['employed'].describe())"
      ]
    },
    {
      "cell_type": "code",
      "execution_count": null,
      "id": "05132928-60b0-4acb-84a1-d03080629a51",
      "metadata": {
        "id": "05132928-60b0-4acb-84a1-d03080629a51",
        "outputId": "4ab4f29f-1ac5-42da-f716-629570ff35e5"
      },
      "outputs": [
        {
          "name": "stdout",
          "output_type": "stream",
          "text": [
            "Описательные статистики переменной 'ofp':\n",
            "count    4406.000000\n",
            "mean        5.774399\n",
            "std         6.759225\n",
            "min         0.000000\n",
            "25%         1.000000\n",
            "50%         4.000000\n",
            "75%         8.000000\n",
            "max        89.000000\n",
            "Name: ofp, dtype: float64\n"
          ]
        }
      ],
      "source": [
        "print(\"Описательные статистики переменной 'ofp':\")\n",
        "print(df['ofp'].describe())"
      ]
    },
    {
      "cell_type": "code",
      "execution_count": null,
      "id": "ca4059c1-7e04-4adb-89cc-ed024c8d2c3a",
      "metadata": {
        "id": "ca4059c1-7e04-4adb-89cc-ed024c8d2c3a",
        "outputId": "4fe89da4-5b26-4828-cc6d-cffac3a54e9e"
      },
      "outputs": [
        {
          "name": "stdout",
          "output_type": "stream",
          "text": [
            "Частотное распределение 'employed':\n",
            "employed\n",
            "no     3951\n",
            "yes     455\n",
            "Name: count, dtype: int64\n"
          ]
        }
      ],
      "source": [
        "# Частотное распределение для переменной 'employed'\n",
        "employed_counts = df['employed'].value_counts()\n",
        "print(\"Частотное распределение 'employed':\")\n",
        "print(employed_counts)"
      ]
    },
    {
      "cell_type": "code",
      "execution_count": null,
      "id": "95cfaab3-4bb3-4e86-8c80-9833ef565b65",
      "metadata": {
        "id": "95cfaab3-4bb3-4e86-8c80-9833ef565b65",
        "outputId": "a0531aa1-c7e8-413d-ab2b-ff4a7f09a73e"
      },
      "outputs": [
        {
          "data": {
            "text/plain": [
              "<Figure size 1200x500 with 0 Axes>"
            ]
          },
          "execution_count": 48,
          "metadata": {},
          "output_type": "execute_result"
        },
        {
          "data": {
            "text/plain": [
              "<Figure size 1200x500 with 0 Axes>"
            ]
          },
          "metadata": {},
          "output_type": "display_data"
        }
      ],
      "source": [
        "# Построение графиков\n",
        "plt.figure(figsize=(12, 5))"
      ]
    },
    {
      "cell_type": "code",
      "execution_count": null,
      "id": "daba9b6a-aa1b-41f2-936f-4686f4cd620e",
      "metadata": {
        "id": "daba9b6a-aa1b-41f2-936f-4686f4cd620e",
        "outputId": "63a89312-3f6d-40a2-acff-2e760e25f5cd"
      },
      "outputs": [
        {
          "data": {
            "text/plain": [
              "Text(0.5, 1.0, 'Частотное распределение переменной employed')"
            ]
          },
          "execution_count": 50,
          "metadata": {},
          "output_type": "execute_result"
        },
        {
          "data": {
            "image/png": "[encoded data removed]",
            "text/plain": [
              "<Figure size 640x480 with 1 Axes>"
            ]
          },
          "metadata": {},
          "output_type": "display_data"
        }
      ],
      "source": [
        "# Гистограмма для переменной 'employed'\n",
        "plt.subplot(1, 2, 1)\n",
        "sns.countplot(x='employed', data=df)\n",
        "plt.title('Частотное распределение переменной employed')"
      ]
    },
    {
      "cell_type": "code",
      "execution_count": null,
      "id": "3cc9a66a-093d-4683-8ecd-a35bde8c4098",
      "metadata": {
        "id": "3cc9a66a-093d-4683-8ecd-a35bde8c4098",
        "outputId": "fdfdb80d-808a-4335-b4b7-f5c90a0ec01a"
      },
      "outputs": [
        {
          "data": {
            "image/png": "[encoded data removed]",
            "text/plain": [
              "<Figure size 1200x600 with 1 Axes>"
            ]
          },
          "metadata": {},
          "output_type": "display_data"
        }
      ],
      "source": [
        "# Взаимосвязь между переменными\n",
        "plt.figure(figsize=(12, 6))\n",
        "sns.boxplot(x='employed', y='ofp', data=df)\n",
        "plt.title('Взаимосвязь между employed и ofp')\n",
        "plt.show()"
      ]
    },
    {
      "cell_type": "code",
      "execution_count": null,
      "id": "9eacba26-9075-43ab-87d8-697776863891",
      "metadata": {
        "id": "9eacba26-9075-43ab-87d8-697776863891"
      },
      "outputs": [],
      "source": [
        "# в) Две числовые переменные: Возраст (age) и Количество хронических заболеваний (numchron)."
      ]
    },
    {
      "cell_type": "code",
      "execution_count": null,
      "id": "264e6626-1ae4-4c5a-820e-e407f181e093",
      "metadata": {
        "id": "264e6626-1ae4-4c5a-820e-e407f181e093",
        "outputId": "d184e4b5-515e-4ef1-e272-0f8e00f87e5a"
      },
      "outputs": [
        {
          "name": "stdout",
          "output_type": "stream",
          "text": [
            "               age     numchron\n",
            "count  4406.000000  4406.000000\n",
            "mean      7.402406     1.541988\n",
            "std       0.633405     1.349632\n",
            "min       6.600000     0.000000\n",
            "25%       6.900000     1.000000\n",
            "50%       7.300000     1.000000\n",
            "75%       7.800000     2.000000\n",
            "max      10.900000     8.000000\n"
          ]
        }
      ],
      "source": [
        "# Описательные статистики для age и numchron\n",
        "desc_stats = df[['age', 'numchron']].describe()\n",
        "print(desc_stats)"
      ]
    },
    {
      "cell_type": "code",
      "execution_count": null,
      "id": "4490ced3-ab38-49cb-be2b-ed94c6fcc830",
      "metadata": {
        "id": "4490ced3-ab38-49cb-be2b-ed94c6fcc830",
        "outputId": "fdeea244-05ac-41f9-9a22-b4576bf21a3c"
      },
      "outputs": [
        {
          "data": {
            "image/png": "[encoded data removed]",
            "text/plain": [
              "<Figure size 1200x500 with 1 Axes>"
            ]
          },
          "metadata": {},
          "output_type": "display_data"
        }
      ],
      "source": [
        "# Частотное распределение для age\n",
        "plt.figure(figsize=(12, 5))\n",
        "sns.histplot(df['age'], bins=20, kde=True)\n",
        "plt.title('Частотное распределение возраста')\n",
        "plt.xlabel('Возраст')\n",
        "plt.ylabel('Частота')\n",
        "plt.show()"
      ]
    },
    {
      "cell_type": "code",
      "execution_count": null,
      "id": "27ecb19e-d356-4ab8-9f22-5b25b04edc28",
      "metadata": {
        "id": "27ecb19e-d356-4ab8-9f22-5b25b04edc28",
        "outputId": "193d0fa4-1eb4-40b5-ee85-4bdd5be187e8"
      },
      "outputs": [
        {
          "data": {
            "image/png": "[encoded data removed]",
            "text/plain": [
              "<Figure size 1200x500 with 1 Axes>"
            ]
          },
          "metadata": {},
          "output_type": "display_data"
        }
      ],
      "source": [
        "# Частотное распределение для numchron\n",
        "plt.figure(figsize=(12, 5))\n",
        "sns.histplot(df['numchron'], bins=20, kde=True)\n",
        "plt.title('Частотное распределение числа хронических заболеваний')\n",
        "plt.xlabel('Число хронических заболеваний')\n",
        "plt.ylabel('Частота')\n",
        "plt.show()"
      ]
    },
    {
      "cell_type": "code",
      "execution_count": null,
      "id": "f3361c71-c095-468a-ac2f-82364530669b",
      "metadata": {
        "id": "f3361c71-c095-468a-ac2f-82364530669b",
        "outputId": "c2c1b822-6a6b-43a6-92f5-00b5a247fa76"
      },
      "outputs": [
        {
          "data": {
            "image/png": "[encoded data removed]",
            "text/plain": [
              "<Figure size 1000x500 with 1 Axes>"
            ]
          },
          "metadata": {},
          "output_type": "display_data"
        }
      ],
      "source": [
        "# Взаимосвязь между age и numchron\n",
        "plt.figure(figsize=(10, 5))\n",
        "sns.scatterplot(x='age', y='numchron', data=df)\n",
        "plt.title('Взаимосвязь между возрастом и количеством хронических заболеваний')\n",
        "plt.xlabel('Возраст')\n",
        "plt.ylabel('Количество хронических заболеваний')\n",
        "plt.show()"
      ]
    },
    {
      "cell_type": "code",
      "execution_count": null,
      "id": "04d16eed-ad19-4b63-91e6-c0e03dc76136",
      "metadata": {
        "id": "04d16eed-ad19-4b63-91e6-c0e03dc76136",
        "outputId": "ae1a37da-adfb-4d23-d859-29abf090f297"
      },
      "outputs": [
        {
          "data": {
            "text/plain": [
              "ofp         0\n",
              "ofnp        0\n",
              "opp         0\n",
              "opnp        0\n",
              "emr         0\n",
              "hosp        0\n",
              "numchron    0\n",
              "adldiff     0\n",
              "age         0\n",
              "black       0\n",
              "sex         0\n",
              "maried      0\n",
              "school      0\n",
              "faminc      0\n",
              "employed    0\n",
              "privins     0\n",
              "medicaid    0\n",
              "region      0\n",
              "hlth        0\n",
              "dtype: int64"
            ]
          },
          "execution_count": 78,
          "metadata": {},
          "output_type": "execute_result"
        }
      ],
      "source": [
        "#Проверяем, есть ли пропуски.\n",
        "df.isna().sum()"
      ]
    },
    {
      "cell_type": "code",
      "execution_count": null,
      "id": "f54025f2-0b8a-4794-ac27-28a3f6aa7204",
      "metadata": {
        "id": "f54025f2-0b8a-4794-ac27-28a3f6aa7204"
      },
      "outputs": [],
      "source": [
        "import numpy as np"
      ]
    },
    {
      "cell_type": "code",
      "execution_count": null,
      "id": "385489a4-43e9-4e5f-9e7b-5c42e832e21e",
      "metadata": {
        "id": "385489a4-43e9-4e5f-9e7b-5c42e832e21e"
      },
      "outputs": [],
      "source": [
        "# Пропуски отсутствуют. Проверяем, есть ли выборосы."
      ]
    },
    {
      "cell_type": "code",
      "execution_count": null,
      "id": "31fffd05-1ca7-4d71-b0ee-f66b81f172bd",
      "metadata": {
        "id": "31fffd05-1ca7-4d71-b0ee-f66b81f172bd",
        "outputId": "3c4c40c8-e22d-4053-e0b2-1cc7e5b756a2"
      },
      "outputs": [
        {
          "data": {
            "text/html": [
              "<div>\n",
              "<style scoped>\n",
              "    .dataframe tbody tr th:only-of-type {\n",
              "        vertical-align: middle;\n",
              "    }\n",
              "\n",
              "    .dataframe tbody tr th {\n",
              "        vertical-align: top;\n",
              "    }\n",
              "\n",
              "    .dataframe thead th {\n",
              "        text-align: right;\n",
              "    }\n",
              "</style>\n",
              "<table border=\"1\" class=\"dataframe\">\n",
              "  <thead>\n",
              "    <tr style=\"text-align: right;\">\n",
              "      <th></th>\n",
              "      <th>ofp</th>\n",
              "      <th>ofnp</th>\n",
              "      <th>opp</th>\n",
              "      <th>opnp</th>\n",
              "      <th>emr</th>\n",
              "      <th>hosp</th>\n",
              "      <th>numchron</th>\n",
              "      <th>adldiff</th>\n",
              "      <th>age</th>\n",
              "      <th>school</th>\n",
              "      <th>faminc</th>\n",
              "    </tr>\n",
              "  </thead>\n",
              "  <tbody>\n",
              "    <tr>\n",
              "      <th>count</th>\n",
              "      <td>4406.000000</td>\n",
              "      <td>4406.000000</td>\n",
              "      <td>4406.000000</td>\n",
              "      <td>4406.000000</td>\n",
              "      <td>4406.000000</td>\n",
              "      <td>4406.000000</td>\n",
              "      <td>4406.000000</td>\n",
              "      <td>4406.000000</td>\n",
              "      <td>4406.000000</td>\n",
              "      <td>4406.000000</td>\n",
              "      <td>4406.000000</td>\n",
              "    </tr>\n",
              "    <tr>\n",
              "      <th>mean</th>\n",
              "      <td>5.774399</td>\n",
              "      <td>1.618021</td>\n",
              "      <td>0.750794</td>\n",
              "      <td>0.536087</td>\n",
              "      <td>0.263504</td>\n",
              "      <td>0.295960</td>\n",
              "      <td>1.541988</td>\n",
              "      <td>0.204040</td>\n",
              "      <td>7.402406</td>\n",
              "      <td>10.290286</td>\n",
              "      <td>2.527132</td>\n",
              "    </tr>\n",
              "    <tr>\n",
              "      <th>std</th>\n",
              "      <td>6.759225</td>\n",
              "      <td>5.317056</td>\n",
              "      <td>3.652759</td>\n",
              "      <td>3.879506</td>\n",
              "      <td>0.703659</td>\n",
              "      <td>0.746398</td>\n",
              "      <td>1.349632</td>\n",
              "      <td>0.403044</td>\n",
              "      <td>0.633405</td>\n",
              "      <td>3.738736</td>\n",
              "      <td>2.924648</td>\n",
              "    </tr>\n",
              "    <tr>\n",
              "      <th>min</th>\n",
              "      <td>0.000000</td>\n",
              "      <td>0.000000</td>\n",
              "      <td>0.000000</td>\n",
              "      <td>0.000000</td>\n",
              "      <td>0.000000</td>\n",
              "      <td>0.000000</td>\n",
              "      <td>0.000000</td>\n",
              "      <td>0.000000</td>\n",
              "      <td>6.600000</td>\n",
              "      <td>0.000000</td>\n",
              "      <td>-1.012500</td>\n",
              "    </tr>\n",
              "    <tr>\n",
              "      <th>25%</th>\n",
              "      <td>1.000000</td>\n",
              "      <td>0.000000</td>\n",
              "      <td>0.000000</td>\n",
              "      <td>0.000000</td>\n",
              "      <td>0.000000</td>\n",
              "      <td>0.000000</td>\n",
              "      <td>1.000000</td>\n",
              "      <td>0.000000</td>\n",
              "      <td>6.900000</td>\n",
              "      <td>8.000000</td>\n",
              "      <td>0.912150</td>\n",
              "    </tr>\n",
              "    <tr>\n",
              "      <th>50%</th>\n",
              "      <td>4.000000</td>\n",
              "      <td>0.000000</td>\n",
              "      <td>0.000000</td>\n",
              "      <td>0.000000</td>\n",
              "      <td>0.000000</td>\n",
              "      <td>0.000000</td>\n",
              "      <td>1.000000</td>\n",
              "      <td>0.000000</td>\n",
              "      <td>7.300000</td>\n",
              "      <td>11.000000</td>\n",
              "      <td>1.698150</td>\n",
              "    </tr>\n",
              "    <tr>\n",
              "      <th>75%</th>\n",
              "      <td>8.000000</td>\n",
              "      <td>1.000000</td>\n",
              "      <td>0.000000</td>\n",
              "      <td>0.000000</td>\n",
              "      <td>0.000000</td>\n",
              "      <td>0.000000</td>\n",
              "      <td>2.000000</td>\n",
              "      <td>0.000000</td>\n",
              "      <td>7.800000</td>\n",
              "      <td>12.000000</td>\n",
              "      <td>3.172850</td>\n",
              "    </tr>\n",
              "    <tr>\n",
              "      <th>max</th>\n",
              "      <td>89.000000</td>\n",
              "      <td>104.000000</td>\n",
              "      <td>141.000000</td>\n",
              "      <td>155.000000</td>\n",
              "      <td>12.000000</td>\n",
              "      <td>8.000000</td>\n",
              "      <td>8.000000</td>\n",
              "      <td>1.000000</td>\n",
              "      <td>10.900000</td>\n",
              "      <td>18.000000</td>\n",
              "      <td>54.835100</td>\n",
              "    </tr>\n",
              "  </tbody>\n",
              "</table>\n",
              "</div>"
            ],
            "text/plain": [
              "               ofp         ofnp          opp         opnp          emr  \\\n",
              "count  4406.000000  4406.000000  4406.000000  4406.000000  4406.000000   \n",
              "mean      5.774399     1.618021     0.750794     0.536087     0.263504   \n",
              "std       6.759225     5.317056     3.652759     3.879506     0.703659   \n",
              "min       0.000000     0.000000     0.000000     0.000000     0.000000   \n",
              "25%       1.000000     0.000000     0.000000     0.000000     0.000000   \n",
              "50%       4.000000     0.000000     0.000000     0.000000     0.000000   \n",
              "75%       8.000000     1.000000     0.000000     0.000000     0.000000   \n",
              "max      89.000000   104.000000   141.000000   155.000000    12.000000   \n",
              "\n",
              "              hosp     numchron      adldiff          age       school  \\\n",
              "count  4406.000000  4406.000000  4406.000000  4406.000000  4406.000000   \n",
              "mean      0.295960     1.541988     0.204040     7.402406    10.290286   \n",
              "std       0.746398     1.349632     0.403044     0.633405     3.738736   \n",
              "min       0.000000     0.000000     0.000000     6.600000     0.000000   \n",
              "25%       0.000000     1.000000     0.000000     6.900000     8.000000   \n",
              "50%       0.000000     1.000000     0.000000     7.300000    11.000000   \n",
              "75%       0.000000     2.000000     0.000000     7.800000    12.000000   \n",
              "max       8.000000     8.000000     1.000000    10.900000    18.000000   \n",
              "\n",
              "            faminc  \n",
              "count  4406.000000  \n",
              "mean      2.527132  \n",
              "std       2.924648  \n",
              "min      -1.012500  \n",
              "25%       0.912150  \n",
              "50%       1.698150  \n",
              "75%       3.172850  \n",
              "max      54.835100  "
            ]
          },
          "execution_count": 92,
          "metadata": {},
          "output_type": "execute_result"
        }
      ],
      "source": [
        "df.describe()"
      ]
    },
    {
      "cell_type": "code",
      "execution_count": null,
      "id": "3db3e660-d253-4859-9d6c-9252bf62e378",
      "metadata": {
        "id": "3db3e660-d253-4859-9d6c-9252bf62e378"
      },
      "outputs": [],
      "source": [
        "# Выбираем интересующие столбцы\n",
        "columns_of_interest = ['ofp', 'ofnp', 'opp', 'opnp', 'emr', 'hosp', 'numchron',\n",
        "                       'adldiff', 'age', 'black', 'sex', 'maried', 'school',\n",
        "                       'faminc', 'employed', 'privins', 'medicaid', 'region', 'hlth']\n",
        "data = df[columns_of_interest]"
      ]
    },
    {
      "cell_type": "code",
      "execution_count": null,
      "id": "4b916257-8e13-4475-95e1-64512119352d",
      "metadata": {
        "id": "4b916257-8e13-4475-95e1-64512119352d"
      },
      "outputs": [],
      "source": [
        "# Функция для удаления выбросов с использованием метода IQR\n",
        "def remove_outliers(df):\n",
        "    for column in df.select_dtypes(include=[np.number]).columns:\n",
        "        Q1 = df[column].quantile(0.25)\n",
        "        Q3 = df[column].quantile(0.75)\n",
        "        IQR = Q3 - Q1\n",
        "        # Фильтруем выбросы\n",
        "        df = df[(df[column] >= Q1 - 1.5 * IQR) & (df[column] <= Q3 + 1.5 * IQR)]\n",
        "    return df"
      ]
    },
    {
      "cell_type": "code",
      "execution_count": null,
      "id": "79d7cd3f-6e3a-4446-a5c3-8bd3727d7b26",
      "metadata": {
        "id": "79d7cd3f-6e3a-4446-a5c3-8bd3727d7b26"
      },
      "outputs": [],
      "source": [
        "# Удаляем выбросы\n",
        "cleaned_data = remove_outliers(data)"
      ]
    },
    {
      "cell_type": "code",
      "execution_count": null,
      "id": "b069abf4-3650-447a-ad2a-66a9e8fd8034",
      "metadata": {
        "id": "b069abf4-3650-447a-ad2a-66a9e8fd8034",
        "outputId": "b6f904a1-d1fa-49d2-8409-67a928b82f9f"
      },
      "outputs": [
        {
          "data": {
            "text/html": [
              "<div>\n",
              "<style scoped>\n",
              "    .dataframe tbody tr th:only-of-type {\n",
              "        vertical-align: middle;\n",
              "    }\n",
              "\n",
              "    .dataframe tbody tr th {\n",
              "        vertical-align: top;\n",
              "    }\n",
              "\n",
              "    .dataframe thead th {\n",
              "        text-align: right;\n",
              "    }\n",
              "</style>\n",
              "<table border=\"1\" class=\"dataframe\">\n",
              "  <thead>\n",
              "    <tr style=\"text-align: right;\">\n",
              "      <th></th>\n",
              "      <th>ofp</th>\n",
              "      <th>ofnp</th>\n",
              "      <th>opp</th>\n",
              "      <th>opnp</th>\n",
              "      <th>emr</th>\n",
              "      <th>hosp</th>\n",
              "      <th>numchron</th>\n",
              "      <th>adldiff</th>\n",
              "      <th>age</th>\n",
              "      <th>black</th>\n",
              "      <th>sex</th>\n",
              "      <th>maried</th>\n",
              "      <th>school</th>\n",
              "      <th>faminc</th>\n",
              "      <th>employed</th>\n",
              "      <th>privins</th>\n",
              "      <th>medicaid</th>\n",
              "      <th>region</th>\n",
              "      <th>hlth</th>\n",
              "    </tr>\n",
              "  </thead>\n",
              "  <tbody>\n",
              "    <tr>\n",
              "      <th>6</th>\n",
              "      <td>9</td>\n",
              "      <td>0</td>\n",
              "      <td>0</td>\n",
              "      <td>0</td>\n",
              "      <td>0</td>\n",
              "      <td>0</td>\n",
              "      <td>0</td>\n",
              "      <td>0</td>\n",
              "      <td>7.5</td>\n",
              "      <td>no</td>\n",
              "      <td>female</td>\n",
              "      <td>no</td>\n",
              "      <td>8</td>\n",
              "      <td>0.828000</td>\n",
              "      <td>no</td>\n",
              "      <td>yes</td>\n",
              "      <td>no</td>\n",
              "      <td>midwest</td>\n",
              "      <td>other</td>\n",
              "    </tr>\n",
              "    <tr>\n",
              "      <th>7</th>\n",
              "      <td>3</td>\n",
              "      <td>0</td>\n",
              "      <td>0</td>\n",
              "      <td>0</td>\n",
              "      <td>0</td>\n",
              "      <td>0</td>\n",
              "      <td>0</td>\n",
              "      <td>0</td>\n",
              "      <td>8.7</td>\n",
              "      <td>no</td>\n",
              "      <td>female</td>\n",
              "      <td>no</td>\n",
              "      <td>8</td>\n",
              "      <td>3.045600</td>\n",
              "      <td>no</td>\n",
              "      <td>yes</td>\n",
              "      <td>no</td>\n",
              "      <td>midwest</td>\n",
              "      <td>other</td>\n",
              "    </tr>\n",
              "    <tr>\n",
              "      <th>8</th>\n",
              "      <td>1</td>\n",
              "      <td>0</td>\n",
              "      <td>0</td>\n",
              "      <td>0</td>\n",
              "      <td>0</td>\n",
              "      <td>0</td>\n",
              "      <td>0</td>\n",
              "      <td>0</td>\n",
              "      <td>7.3</td>\n",
              "      <td>no</td>\n",
              "      <td>female</td>\n",
              "      <td>no</td>\n",
              "      <td>8</td>\n",
              "      <td>3.045600</td>\n",
              "      <td>no</td>\n",
              "      <td>yes</td>\n",
              "      <td>no</td>\n",
              "      <td>midwest</td>\n",
              "      <td>other</td>\n",
              "    </tr>\n",
              "    <tr>\n",
              "      <th>9</th>\n",
              "      <td>0</td>\n",
              "      <td>0</td>\n",
              "      <td>0</td>\n",
              "      <td>0</td>\n",
              "      <td>0</td>\n",
              "      <td>0</td>\n",
              "      <td>0</td>\n",
              "      <td>0</td>\n",
              "      <td>7.8</td>\n",
              "      <td>no</td>\n",
              "      <td>female</td>\n",
              "      <td>no</td>\n",
              "      <td>8</td>\n",
              "      <td>3.045600</td>\n",
              "      <td>no</td>\n",
              "      <td>yes</td>\n",
              "      <td>no</td>\n",
              "      <td>midwest</td>\n",
              "      <td>other</td>\n",
              "    </tr>\n",
              "    <tr>\n",
              "      <th>10</th>\n",
              "      <td>0</td>\n",
              "      <td>0</td>\n",
              "      <td>0</td>\n",
              "      <td>0</td>\n",
              "      <td>0</td>\n",
              "      <td>0</td>\n",
              "      <td>1</td>\n",
              "      <td>0</td>\n",
              "      <td>6.6</td>\n",
              "      <td>no</td>\n",
              "      <td>male</td>\n",
              "      <td>yes</td>\n",
              "      <td>8</td>\n",
              "      <td>2.949800</td>\n",
              "      <td>yes</td>\n",
              "      <td>yes</td>\n",
              "      <td>no</td>\n",
              "      <td>midwest</td>\n",
              "      <td>other</td>\n",
              "    </tr>\n",
              "    <tr>\n",
              "      <th>...</th>\n",
              "      <td>...</td>\n",
              "      <td>...</td>\n",
              "      <td>...</td>\n",
              "      <td>...</td>\n",
              "      <td>...</td>\n",
              "      <td>...</td>\n",
              "      <td>...</td>\n",
              "      <td>...</td>\n",
              "      <td>...</td>\n",
              "      <td>...</td>\n",
              "      <td>...</td>\n",
              "      <td>...</td>\n",
              "      <td>...</td>\n",
              "      <td>...</td>\n",
              "      <td>...</td>\n",
              "      <td>...</td>\n",
              "      <td>...</td>\n",
              "      <td>...</td>\n",
              "      <td>...</td>\n",
              "    </tr>\n",
              "    <tr>\n",
              "      <th>4397</th>\n",
              "      <td>2</td>\n",
              "      <td>0</td>\n",
              "      <td>0</td>\n",
              "      <td>0</td>\n",
              "      <td>0</td>\n",
              "      <td>0</td>\n",
              "      <td>1</td>\n",
              "      <td>0</td>\n",
              "      <td>7.0</td>\n",
              "      <td>no</td>\n",
              "      <td>female</td>\n",
              "      <td>yes</td>\n",
              "      <td>12</td>\n",
              "      <td>2.220000</td>\n",
              "      <td>no</td>\n",
              "      <td>yes</td>\n",
              "      <td>no</td>\n",
              "      <td>other</td>\n",
              "      <td>other</td>\n",
              "    </tr>\n",
              "    <tr>\n",
              "      <th>4399</th>\n",
              "      <td>2</td>\n",
              "      <td>0</td>\n",
              "      <td>0</td>\n",
              "      <td>0</td>\n",
              "      <td>0</td>\n",
              "      <td>0</td>\n",
              "      <td>1</td>\n",
              "      <td>0</td>\n",
              "      <td>7.6</td>\n",
              "      <td>no</td>\n",
              "      <td>female</td>\n",
              "      <td>yes</td>\n",
              "      <td>8</td>\n",
              "      <td>1.953900</td>\n",
              "      <td>no</td>\n",
              "      <td>yes</td>\n",
              "      <td>no</td>\n",
              "      <td>other</td>\n",
              "      <td>other</td>\n",
              "    </tr>\n",
              "    <tr>\n",
              "      <th>4401</th>\n",
              "      <td>11</td>\n",
              "      <td>0</td>\n",
              "      <td>0</td>\n",
              "      <td>0</td>\n",
              "      <td>0</td>\n",
              "      <td>0</td>\n",
              "      <td>0</td>\n",
              "      <td>0</td>\n",
              "      <td>8.4</td>\n",
              "      <td>no</td>\n",
              "      <td>female</td>\n",
              "      <td>yes</td>\n",
              "      <td>8</td>\n",
              "      <td>2.249700</td>\n",
              "      <td>no</td>\n",
              "      <td>yes</td>\n",
              "      <td>no</td>\n",
              "      <td>other</td>\n",
              "      <td>other</td>\n",
              "    </tr>\n",
              "    <tr>\n",
              "      <th>4402</th>\n",
              "      <td>12</td>\n",
              "      <td>0</td>\n",
              "      <td>0</td>\n",
              "      <td>0</td>\n",
              "      <td>0</td>\n",
              "      <td>0</td>\n",
              "      <td>2</td>\n",
              "      <td>0</td>\n",
              "      <td>7.8</td>\n",
              "      <td>no</td>\n",
              "      <td>female</td>\n",
              "      <td>no</td>\n",
              "      <td>11</td>\n",
              "      <td>5.813200</td>\n",
              "      <td>no</td>\n",
              "      <td>yes</td>\n",
              "      <td>no</td>\n",
              "      <td>other</td>\n",
              "      <td>other</td>\n",
              "    </tr>\n",
              "    <tr>\n",
              "      <th>4404</th>\n",
              "      <td>16</td>\n",
              "      <td>1</td>\n",
              "      <td>0</td>\n",
              "      <td>0</td>\n",
              "      <td>0</td>\n",
              "      <td>0</td>\n",
              "      <td>0</td>\n",
              "      <td>0</td>\n",
              "      <td>6.6</td>\n",
              "      <td>no</td>\n",
              "      <td>female</td>\n",
              "      <td>yes</td>\n",
              "      <td>12</td>\n",
              "      <td>3.877916</td>\n",
              "      <td>no</td>\n",
              "      <td>yes</td>\n",
              "      <td>no</td>\n",
              "      <td>other</td>\n",
              "      <td>other</td>\n",
              "    </tr>\n",
              "  </tbody>\n",
              "</table>\n",
              "<p>1554 rows × 19 columns</p>\n",
              "</div>"
            ],
            "text/plain": [
              "      ofp  ofnp  opp  opnp  emr  hosp  numchron  adldiff  age black     sex  \\\n",
              "6       9     0    0     0    0     0         0        0  7.5    no  female   \n",
              "7       3     0    0     0    0     0         0        0  8.7    no  female   \n",
              "8       1     0    0     0    0     0         0        0  7.3    no  female   \n",
              "9       0     0    0     0    0     0         0        0  7.8    no  female   \n",
              "10      0     0    0     0    0     0         1        0  6.6    no    male   \n",
              "...   ...   ...  ...   ...  ...   ...       ...      ...  ...   ...     ...   \n",
              "4397    2     0    0     0    0     0         1        0  7.0    no  female   \n",
              "4399    2     0    0     0    0     0         1        0  7.6    no  female   \n",
              "4401   11     0    0     0    0     0         0        0  8.4    no  female   \n",
              "4402   12     0    0     0    0     0         2        0  7.8    no  female   \n",
              "4404   16     1    0     0    0     0         0        0  6.6    no  female   \n",
              "\n",
              "     maried  school    faminc employed privins medicaid   region   hlth  \n",
              "6        no       8  0.828000       no     yes       no  midwest  other  \n",
              "7        no       8  3.045600       no     yes       no  midwest  other  \n",
              "8        no       8  3.045600       no     yes       no  midwest  other  \n",
              "9        no       8  3.045600       no     yes       no  midwest  other  \n",
              "10      yes       8  2.949800      yes     yes       no  midwest  other  \n",
              "...     ...     ...       ...      ...     ...      ...      ...    ...  \n",
              "4397    yes      12  2.220000       no     yes       no    other  other  \n",
              "4399    yes       8  1.953900       no     yes       no    other  other  \n",
              "4401    yes       8  2.249700       no     yes       no    other  other  \n",
              "4402     no      11  5.813200       no     yes       no    other  other  \n",
              "4404    yes      12  3.877916       no     yes       no    other  other  \n",
              "\n",
              "[1554 rows x 19 columns]"
            ]
          },
          "execution_count": 102,
          "metadata": {},
          "output_type": "execute_result"
        }
      ],
      "source": [
        "cleaned_data"
      ]
    },
    {
      "cell_type": "code",
      "execution_count": null,
      "id": "b06244ba-9d23-494d-8f6a-7a35846f82a6",
      "metadata": {
        "id": "b06244ba-9d23-494d-8f6a-7a35846f82a6"
      },
      "outputs": [],
      "source": [
        "import scipy.stats as stats"
      ]
    },
    {
      "cell_type": "code",
      "execution_count": null,
      "id": "e46c7d1d-a917-4fcc-84e2-a7732b62c34f",
      "metadata": {
        "id": "e46c7d1d-a917-4fcc-84e2-a7732b62c34f"
      },
      "outputs": [],
      "source": [
        "# Выбор числовой переменной для анализа\n",
        "variable = cleaned_data['age']"
      ]
    },
    {
      "cell_type": "code",
      "execution_count": null,
      "id": "9b745487-7a6b-4af8-ab06-ec9a5d2dcd80",
      "metadata": {
        "id": "9b745487-7a6b-4af8-ab06-ec9a5d2dcd80",
        "outputId": "2357b367-923a-4e50-f0d4-54ebe984b7fe"
      },
      "outputs": [
        {
          "data": {
            "text/plain": [
              "Text(0.5, 1.0, 'QQ-plot для переменной age')"
            ]
          },
          "execution_count": 108,
          "metadata": {},
          "output_type": "execute_result"
        },
        {
          "data": {
            "image/png": "[encoded data removed]",
            "text/plain": [
              "<Figure size 1200x600 with 1 Axes>"
            ]
          },
          "metadata": {},
          "output_type": "display_data"
        }
      ],
      "source": [
        "# Построение QQ-plot\n",
        "plt.figure(figsize=(12, 6))\n",
        "plt.subplot(1, 2, 1)\n",
        "stats.probplot(variable, dist=\"norm\", plot=plt)\n",
        "plt.title('QQ-plot для переменной age')"
      ]
    },
    {
      "cell_type": "code",
      "execution_count": null,
      "id": "d075f2ab-17a4-4e2e-a085-a8d2e340bbac",
      "metadata": {
        "id": "d075f2ab-17a4-4e2e-a085-a8d2e340bbac",
        "outputId": "fde849d0-5b35-4702-a254-09ebb301f27b"
      },
      "outputs": [
        {
          "data": {
            "image/png": "[encoded data removed]",
            "text/plain": [
              "<Figure size 640x480 with 1 Axes>"
            ]
          },
          "metadata": {},
          "output_type": "display_data"
        }
      ],
      "source": [
        "# Построение гистограммы\n",
        "plt.subplot(1, 2, 2)\n",
        "plt.hist(variable, bins=30, density=True, alpha=0.6, color='g')\n",
        "plt.title('Гистограмма для переменной age')\n",
        "plt.xlabel('Возраст')\n",
        "plt.ylabel('Частота')\n",
        "plt.tight_layout()\n",
        "plt.show()"
      ]
    },
    {
      "cell_type": "code",
      "execution_count": null,
      "id": "98c50af4-b111-4e6b-8668-85a94127c79b",
      "metadata": {
        "id": "98c50af4-b111-4e6b-8668-85a94127c79b"
      },
      "outputs": [],
      "source": [
        "# Этот код создает QQ-plot, чтобы визуально оценить соответствие распределения нормальному, а также гистограмму,\n",
        "# чтобы увидеть распределение значений переменной age."
      ]
    },
    {
      "cell_type": "code",
      "execution_count": null,
      "id": "35648d3d-5cf9-4b6c-aa5e-ef03bdd5f286",
      "metadata": {
        "id": "35648d3d-5cf9-4b6c-aa5e-ef03bdd5f286"
      },
      "outputs": [],
      "source": [
        "# # а) Две категориальные переменные: Пол (Sex) и Наличие медицинской страховки (privins).\n",
        "# Гипотеза об их взаимосвязи:\n",
        "# Существует статистически значимая взаимосвязь между полом человека и наличием медицинской страховки, при этом женщины с большей вероятностью обладают медицинской страховкой по сравнению с мужчинами.\n",
        "# Эта гипотеза подразумевает, что пол может быть фактором, влияющим на доступность или выбор медицинской страховки, и ее можно проверить с помощью статистического анализа данных о наличии страховки среди мужчин и женщин.\n",
        "# Создаем таблицу контингентности\n",
        "contingency_table = pd.crosstab(cleaned_data['sex'], cleaned_data['privins'])"
      ]
    },
    {
      "cell_type": "code",
      "execution_count": null,
      "id": "353083b2-5eae-4330-9d6c-0933f2cf3f28",
      "metadata": {
        "id": "353083b2-5eae-4330-9d6c-0933f2cf3f28"
      },
      "outputs": [],
      "source": [
        "# Проводим тест хи-квадрат\n",
        "chi2, p, dof, expected = stats.chi2_contingency(contingency_table)"
      ]
    },
    {
      "cell_type": "code",
      "execution_count": null,
      "id": "c9fee753-8ad6-4254-9885-32602860c533",
      "metadata": {
        "id": "c9fee753-8ad6-4254-9885-32602860c533",
        "outputId": "8741b5bb-aa32-4f43-8f22-cc3a45347d26"
      },
      "outputs": [
        {
          "name": "stdout",
          "output_type": "stream",
          "text": [
            "Chi2 Statistic: 0.04874294062303488\n",
            "P-Value: 0.8252652673169164\n",
            "Degrees of Freedom: 1\n"
          ]
        }
      ],
      "source": [
        "# Выводим результаты\n",
        "print(\"Chi2 Statistic:\", chi2)\n",
        "print(\"P-Value:\", p)\n",
        "print(\"Degrees of Freedom:\", dof)"
      ]
    },
    {
      "cell_type": "code",
      "execution_count": null,
      "id": "963cf0cd-c8c9-4c4c-aa5d-d8ed6d672eb9",
      "metadata": {
        "id": "963cf0cd-c8c9-4c4c-aa5d-d8ed6d672eb9",
        "outputId": "3f6857f0-7ff6-45cf-c874-4a61a96270a2"
      },
      "outputs": [
        {
          "name": "stdout",
          "output_type": "stream",
          "text": [
            "Не удается отвергнуть нулевую гипотезу. Связь незначима.\n"
          ]
        }
      ],
      "source": [
        "# Проверка гипотезы\n",
        "alpha = 0.05\n",
        "if p < alpha:\n",
        "    print(\"Отвергаем нулевую гипотезу. Есть статистически значимая связь между полом и наличием медицинской страховки.\")\n",
        "else:\n",
        "    print(\"Не удается отвергнуть нулевую гипотезу. Связь незначима.\")"
      ]
    },
    {
      "cell_type": "code",
      "execution_count": null,
      "id": "56a95452-852b-4531-b30e-13cda8b7766d",
      "metadata": {
        "id": "56a95452-852b-4531-b30e-13cda8b7766d"
      },
      "outputs": [],
      "source": [
        "# Результаты теста помогут понять, есть ли различия в наличии медицинской страховки между мужчинами и женщинами.\n",
        "# Если связь статистически значима, это может указывать на необходимость разработки целевых программ для определенных групп по улучшению доступа к медицинской страховке."
      ]
    },
    {
      "cell_type": "code",
      "execution_count": null,
      "id": "a299c3ca-4b81-4b00-9792-7e24b1cfe916",
      "metadata": {
        "id": "a299c3ca-4b81-4b00-9792-7e24b1cfe916"
      },
      "outputs": [],
      "source": [
        "# б) Одна категориальная переменная: Трудоустроен человек или нет (employed).\n",
        "#    Одна числовая переменная: Количество визитов к врачу (ofp).\n",
        "# Гипотеза об их взаимосвязи:\n",
        "# Люди, имеющие постоянную работу, посещают врача реже, чем безработные, из-за более стабильного дохода и доступа к медицинским услугам, а также меньшего уровня стрессов и психологических проблем, связанных с финансовой нестабильностью.\n",
        "# Эта гипотеза предполагает, что наличие работы может влиять на частоту обращений к врачу, что в свою очередь может быть связано с финансовыми возможностями, уровнем стресса и общей удовлетворенностью жизнью.\n",
        "# Разделяем данные на две группы\n",
        "employed_visits = cleaned_data[cleaned_data['employed'] == 1]['ofp']\n",
        "unemployed_visits = cleaned_data[cleaned_data['employed'] == 0]['ofp']"
      ]
    },
    {
      "cell_type": "code",
      "execution_count": null,
      "id": "25b88848-59df-473c-9951-836d636e94c2",
      "metadata": {
        "id": "25b88848-59df-473c-9951-836d636e94c2",
        "outputId": "f2ee33f3-8303-4738-e38e-b9f20cb32955"
      },
      "outputs": [
        {
          "name": "stderr",
          "output_type": "stream",
          "text": [
            "C:\\Users\\Роман\\AppData\\Local\\Temp\\ipykernel_10488\\2179853756.py:2: SmallSampleWarning: One or more sample arguments is too small; all returned values will be NaN. See documentation for sample size requirements.\n",
            "  t_stat, p_value = stats.ttest_ind(employed_visits, unemployed_visits)\n"
          ]
        }
      ],
      "source": [
        "# Выполняем t-тест\n",
        "t_stat, p_value = stats.ttest_ind(employed_visits, unemployed_visits)"
      ]
    },
    {
      "cell_type": "code",
      "execution_count": null,
      "id": "34849b2e-6fbb-4d6e-8788-f956de546716",
      "metadata": {
        "id": "34849b2e-6fbb-4d6e-8788-f956de546716",
        "outputId": "51cc1cb3-9655-4709-fd1d-ebe34ce9c26c"
      },
      "outputs": [
        {
          "name": "stdout",
          "output_type": "stream",
          "text": [
            "T-Statistic: nan, P-Value: nan\n"
          ]
        }
      ],
      "source": [
        "# Выводим результаты\n",
        "print(f'T-Statistic: {t_stat}, P-Value: {p_value}')"
      ]
    },
    {
      "cell_type": "code",
      "execution_count": null,
      "id": "cacf6c97-6d59-4904-9363-48fcee5617bd",
      "metadata": {
        "id": "cacf6c97-6d59-4904-9363-48fcee5617bd",
        "outputId": "de205258-042c-415a-cdd0-9c257f09353a"
      },
      "outputs": [
        {
          "name": "stdout",
          "output_type": "stream",
          "text": [
            "Нет оснований отвергать нулевую гипотезу.\n"
          ]
        }
      ],
      "source": [
        "# Пороговое значение для alpha\n",
        "alpha = 0.05\n",
        "if p_value < alpha:\n",
        "    print(\"Отвергаем нулевую гипотезу: трудоустроенные посещают врача реже.\")\n",
        "else:\n",
        "    print(\"Нет оснований отвергать нулевую гипотезу.\")"
      ]
    },
    {
      "cell_type": "code",
      "execution_count": null,
      "id": "3cf0debf-6386-4479-85b1-f5a4fc6a29ff",
      "metadata": {
        "id": "3cf0debf-6386-4479-85b1-f5a4fc6a29ff"
      },
      "outputs": [],
      "source": [
        "# Практический смысл результатов заключается в том, что, если гипотеза подтверждается,\n",
        "# это может повлиять на политику здравоохранения и программы поддержки безработных, увеличивая доступ к медицинским услугам и снижая стресс."
      ]
    },
    {
      "cell_type": "code",
      "execution_count": null,
      "id": "c71dc382-263a-45e5-a000-646988b2bcd8",
      "metadata": {
        "id": "c71dc382-263a-45e5-a000-646988b2bcd8"
      },
      "outputs": [],
      "source": [
        "# в) Две числовые переменные: Возраст (age) и Количество хронических заболеваний (numchron).\n",
        "# Гипотеза об их взаимосвязи:\n",
        "# С увеличением возраста человека наблюдается увеличение количества хронических заболеваний, что связано с возрастными изменениями в организме, снижением иммунной функции и накоплением факторов риска в течение жизни."
      ]
    },
    {
      "cell_type": "code",
      "execution_count": null,
      "id": "c1831f20-e32c-4987-b365-babef8c41f74",
      "metadata": {
        "id": "c1831f20-e32c-4987-b365-babef8c41f74",
        "outputId": "a2da5783-fc29-4329-f5bf-bfff3bdcaa9f"
      },
      "outputs": [
        {
          "data": {
            "image/png": "[encoded data removed]",
            "text/plain": [
              "<Figure size 640x480 with 1 Axes>"
            ]
          },
          "metadata": {},
          "output_type": "display_data"
        }
      ],
      "source": [
        "# Визуализация данных\n",
        "sns.scatterplot(x='age', y='numchron', data=cleaned_data)\n",
        "plt.title('Возраст и количество хронических заболеваний')\n",
        "plt.xlabel('Возраст')\n",
        "plt.ylabel('Количество хронических заболеваний')\n",
        "plt.show()"
      ]
    },
    {
      "cell_type": "code",
      "execution_count": null,
      "id": "7aa52752-d8a8-433a-8453-f2b63a170627",
      "metadata": {
        "id": "7aa52752-d8a8-433a-8453-f2b63a170627"
      },
      "outputs": [],
      "source": [
        "# Тест гипотезы: Проверяем корреляцию между возрастом и количеством хронических заболеваний\n",
        "correlation, p_value = stats.pearsonr(cleaned_data['age'], cleaned_data['numchron'])"
      ]
    },
    {
      "cell_type": "code",
      "execution_count": null,
      "id": "127df4cf-355b-46da-8ba8-7f5cf1fbcbb3",
      "metadata": {
        "id": "127df4cf-355b-46da-8ba8-7f5cf1fbcbb3",
        "outputId": "f0f264d2-2eec-46ab-ac5e-27f08371dc93"
      },
      "outputs": [
        {
          "name": "stdout",
          "output_type": "stream",
          "text": [
            "Корреляция: 0.08260028047823584, p-значение: 0.001117583763326806\n"
          ]
        }
      ],
      "source": [
        "# Вывод результата\n",
        "print(f'Корреляция: {correlation}, p-значение: {p_value}')"
      ]
    },
    {
      "cell_type": "code",
      "execution_count": null,
      "id": "1113d960-1e6f-46ca-90d6-58fe49c86153",
      "metadata": {
        "id": "1113d960-1e6f-46ca-90d6-58fe49c86153",
        "outputId": "dfada68b-bb72-45a7-be6f-3e028e1ec407"
      },
      "outputs": [
        {
          "name": "stdout",
          "output_type": "stream",
          "text": [
            "Отвергаем нулевую гипотезу: существуют доказательства о корреляции.\n"
          ]
        }
      ],
      "source": [
        "# Проверка гипотезы\n",
        "alpha = 0.05\n",
        "if p_value < alpha:\n",
        "    print(\"Отвергаем нулевую гипотезу: существуют доказательства о корреляции.\")\n",
        "else:\n",
        "    print(\"Не можем отвергнуть нулевую гипотезу: нет доказательств о корреляции.\")"
      ]
    },
    {
      "cell_type": "code",
      "execution_count": null,
      "id": "52e2cc96-866f-4d8b-8a4b-b6c866dbb0e7",
      "metadata": {
        "id": "52e2cc96-866f-4d8b-8a4b-b6c866dbb0e7"
      },
      "outputs": [],
      "source": [
        "# Результаты могут быть использованы для разработки программ профилактики и лечения хронических заболеваний у\n",
        "# пожилых людей, а также для исследований в области общественного здоровья.\n",
        "# Данный код проводит анализ данных о возрасте и количестве хронических заболеваний, визуализирует их зависимости и проверяет статистическую гипотезу о существовании корреляции. Результаты имеют практическое значение для медицины и профилактики."
      ]
    },
    {
      "cell_type": "code",
      "execution_count": null,
      "id": "9e7289f2-92e0-4d57-b3f3-731e9a85f2a4",
      "metadata": {
        "id": "9e7289f2-92e0-4d57-b3f3-731e9a85f2a4"
      },
      "outputs": [],
      "source": [
        "# На основе проведенных наблюдений о взаимосвязи между переменными сформулируйте задачу классификации или регрессии,\n",
        "# которая может иметь практическую ценность."
      ]
    },
    {
      "cell_type": "code",
      "execution_count": null,
      "id": "654ec1b3-8379-4a90-a376-f52b3346145d",
      "metadata": {
        "id": "654ec1b3-8379-4a90-a376-f52b3346145d"
      },
      "outputs": [],
      "source": [
        "# На основе переменных можно сформулировать несколько задач классификации и регрессии, которые имеют практическую ценность:\n",
        "# Задача классификации: Определение наличия медицинской страховки (privins) на основе пола (Sex) и возраста (age).\n",
        "# Описание задачи: Это поможет выявить, какие группы населения, основываясь на демографических характеристиках, имеют более высокие или низкие шансы на наличие медицинской страховки. Например, можно выделить пол, возраст и другие факторы, влияющие на возможность иметь медицинскую страховку, и на этой основе разрабатывать программы поддержки.\n",
        "# Задача регрессии: Предсказание количества визитов к врачу (ofp) на основе статуса трудоустройства (employed) и возраста (age).\n",
        "# Описание задачи: Эта задача может выявить, как статус трудоустройства и возраст влияют на частоту обращения к врачу. Это может быть полезно для медицинских учреждений и страховых компаний в планировании бюджета и распределении ресурсов.\n",
        "# Каждая из этих задач может быть использована для получения ценной информации о здоровье населения и для разработки стратегий улучшения медицинского обслуживания."
      ]
    },
    {
      "cell_type": "code",
      "execution_count": null,
      "id": "24f23634-e4c8-4ba9-b1ec-4ebde4cbd6ad",
      "metadata": {
        "id": "24f23634-e4c8-4ba9-b1ec-4ebde4cbd6ad"
      },
      "outputs": [],
      "source": [
        "# Разделите датасет на обучающую (60%) и тестовую (40%) выборки.\n",
        "# Далее тестовую выборку разделите пополам (20% и 20%):\n",
        "# a)Первая половина будет использоваться для оценки качества модели. Предполагается, что здесь вы знаете наблюдаемые значения таргета и можете сравнивать их с предсказаниями\n",
        "# b)Вторая половина будет использоваться для построения прогнозов. Предполагается, что здесь значения таргета вам неизвестны – как в практической ситуации использования моделей прогнозирования."
      ]
    },
    {
      "cell_type": "code",
      "execution_count": 9,
      "id": "0fe54f42-8d7d-408f-acbe-19cb50514c12",
      "metadata": {
        "id": "0fe54f42-8d7d-408f-acbe-19cb50514c12"
      },
      "outputs": [],
      "source": [
        "import pandas as pd\n",
        "from sklearn.model_selection import train_test_split\n",
        "from sklearn.ensemble import RandomForestClassifier\n",
        "from sklearn.linear_model import LogisticRegression\n",
        "from sklearn.svm import SVC\n",
        "from sklearn.metrics import accuracy_score\n",
        "from sklearn.metrics import accuracy_score, classification_report"
      ]
    },
    {
      "cell_type": "code",
      "source": [
        "# На основе проведенных наблюдений о взаимосвязи между переменными сформулируйте задачу классификации или регрессии,\n",
        "# которая может иметь практическую ценность.\n",
        "# Задача классификации: Определение наличия медицинской страховки (privins) на основе пола (Sex) и возраста (age).\n",
        "# Описание задачи: Это поможет выявить, какие группы населения, основываясь на демографических характеристиках, имеют более высокие или низкие шансы на наличие медицинской страховки.\n",
        "# Например, можно выделить пол, возраст и другие факторы, влияющие на возможность иметь медицинскую страховку, и на этой основе разрабатывать программы поддержки."
      ],
      "metadata": {
        "id": "rWHByaTSXHrl"
      },
      "id": "rWHByaTSXHrl",
      "execution_count": 2,
      "outputs": []
    },
    {
      "cell_type": "code",
      "source": [
        "# Загружаем датасет\n",
        "url = \"https://vincentarelbundock.github.io/Rdatasets/csv/Ecdat/OFP.csv\"\n",
        "data = pd.read_csv(url)"
      ],
      "metadata": {
        "id": "IWJZY1nkZGLJ"
      },
      "id": "IWJZY1nkZGLJ",
      "execution_count": 10,
      "outputs": []
    },
    {
      "cell_type": "code",
      "source": [
        "# На основе проведенных наблюдений о взаимосвязи между переменными сформулируйте задачу классификации или регрессии,\n",
        "# которая может иметь практическую ценность.\n",
        "# Задача классификации: Определение наличия медицинской страховки (privins) на основе пола (Sex) и возраста (age).\n",
        "# Описание задачи: Это поможет выявить, какие группы населения, основываясь на демографических характеристиках, имеют более высокие или низкие шансы на наличие медицинской страховки.\n",
        "# Например, можно выделить пол, возраст и другие факторы, влияющие на возможность иметь медицинскую страховку, и на этой основе разрабатывать программы поддержки."
      ],
      "metadata": {
        "id": "r0WKNP3uZK-7"
      },
      "id": "r0WKNP3uZK-7",
      "execution_count": 11,
      "outputs": []
    },
    {
      "cell_type": "code",
      "source": [
        "# Теперь разделим данные на обучающую (60%) и тестовую (40%) выборки. Затем разделим тестовую выборку пополам (по 20% каждая)."
      ],
      "metadata": {
        "id": "Ly8sU-8fZOeh"
      },
      "id": "Ly8sU-8fZOeh",
      "execution_count": 12,
      "outputs": []
    },
    {
      "cell_type": "code",
      "source": [
        "# Определим фичи и целевую переменную\n",
        "X = data[['sex', 'age']]\n",
        "y = data['privins']"
      ],
      "metadata": {
        "id": "IOQvg_WEZQ4S"
      },
      "id": "IOQvg_WEZQ4S",
      "execution_count": 13,
      "outputs": []
    },
    {
      "cell_type": "code",
      "source": [
        "# Преобразуем категориальные переменные в числовые\n",
        "X = pd.get_dummies(X, drop_first=True)"
      ],
      "metadata": {
        "id": "nZoOjNiLZTeI"
      },
      "id": "nZoOjNiLZTeI",
      "execution_count": 15,
      "outputs": []
    },
    {
      "cell_type": "code",
      "source": [
        "# Разделяем данные на обучающую (60%) и тестовую (40%)\n",
        "X_train, X_test, y_train, y_test = train_test_split(X, y, test_size=0.4, random_state=42)"
      ],
      "metadata": {
        "id": "L9yj-JcMZW9e"
      },
      "id": "L9yj-JcMZW9e",
      "execution_count": 16,
      "outputs": []
    },
    {
      "cell_type": "code",
      "source": [
        "# Теперь делим тестовую выборку пополам (по 20% каждая)\n",
        "X_val, X_pred, y_val, y_pred = train_test_split(X_test, y_test, test_size=0.5, random_state=42)"
      ],
      "metadata": {
        "id": "uEefIUFNZZFZ"
      },
      "id": "uEefIUFNZZFZ",
      "execution_count": 17,
      "outputs": []
    },
    {
      "cell_type": "code",
      "source": [
        "# Теперь обучим три разные модели: логистическую регрессию, случайный лес и метод опорных векторов."
      ],
      "metadata": {
        "id": "qb8u7WErZbSB"
      },
      "id": "qb8u7WErZbSB",
      "execution_count": 18,
      "outputs": []
    },
    {
      "cell_type": "code",
      "source": [
        "# Логистическая регрессия\n",
        "model_log = LogisticRegression()\n",
        "model_log.fit(X_train, y_train)\n",
        "y_val_pred_log = model_log.predict(X_val)"
      ],
      "metadata": {
        "id": "31Ms1zLRZdbZ"
      },
      "id": "31Ms1zLRZdbZ",
      "execution_count": 19,
      "outputs": []
    },
    {
      "cell_type": "code",
      "source": [
        "# Случайный лес\n",
        "model_rf = RandomForestClassifier()\n",
        "model_rf.fit(X_train, y_train)\n",
        "y_val_pred_rf = model_rf.predict(X_val)"
      ],
      "metadata": {
        "id": "Ft2aAag5Zfcl"
      },
      "id": "Ft2aAag5Zfcl",
      "execution_count": 20,
      "outputs": []
    },
    {
      "cell_type": "code",
      "source": [
        "# Метод опорных векторов\n",
        "model_svc = SVC()\n",
        "model_svc.fit(X_train, y_train)\n",
        "y_val_pred_svc = model_svc.predict(X_val)"
      ],
      "metadata": {
        "id": "tbvJ5RcLZhcJ"
      },
      "id": "tbvJ5RcLZhcJ",
      "execution_count": 21,
      "outputs": []
    },
    {
      "cell_type": "code",
      "source": [
        "# Теперь оценим качество каждой из моделей на валидирующей выборке."
      ],
      "metadata": {
        "id": "mdFqNCGaZjhj"
      },
      "id": "mdFqNCGaZjhj",
      "execution_count": 22,
      "outputs": []
    },
    {
      "cell_type": "code",
      "source": [
        "# Оценка качества\n",
        "print(\"Логистическая регрессия:\")\n",
        "print(classification_report(y_val, y_val_pred_log))"
      ],
      "metadata": {
        "colab": {
          "base_uri": "https://localhost:8080/"
        },
        "id": "KuQkM-7GZliP",
        "outputId": "5ed803a2-7896-487e-bd93-bfa3bc432679"
      },
      "id": "KuQkM-7GZliP",
      "execution_count": 23,
      "outputs": [
        {
          "output_type": "stream",
          "name": "stdout",
          "text": [
            "Логистическая регрессия:\n",
            "              precision    recall  f1-score   support\n",
            "\n",
            "          no       0.00      0.00      0.00       196\n",
            "         yes       0.78      1.00      0.87       685\n",
            "\n",
            "    accuracy                           0.78       881\n",
            "   macro avg       0.39      0.50      0.44       881\n",
            "weighted avg       0.60      0.78      0.68       881\n",
            "\n"
          ]
        },
        {
          "output_type": "stream",
          "name": "stderr",
          "text": [
            "/usr/local/lib/python3.10/dist-packages/sklearn/metrics/_classification.py:1531: UndefinedMetricWarning: Precision is ill-defined and being set to 0.0 in labels with no predicted samples. Use `zero_division` parameter to control this behavior.\n",
            "  _warn_prf(average, modifier, f\"{metric.capitalize()} is\", len(result))\n",
            "/usr/local/lib/python3.10/dist-packages/sklearn/metrics/_classification.py:1531: UndefinedMetricWarning: Precision is ill-defined and being set to 0.0 in labels with no predicted samples. Use `zero_division` parameter to control this behavior.\n",
            "  _warn_prf(average, modifier, f\"{metric.capitalize()} is\", len(result))\n",
            "/usr/local/lib/python3.10/dist-packages/sklearn/metrics/_classification.py:1531: UndefinedMetricWarning: Precision is ill-defined and being set to 0.0 in labels with no predicted samples. Use `zero_division` parameter to control this behavior.\n",
            "  _warn_prf(average, modifier, f\"{metric.capitalize()} is\", len(result))\n"
          ]
        }
      ]
    },
    {
      "cell_type": "code",
      "source": [
        "print(\"Случайный лес:\")\n",
        "print(classification_report(y_val, y_val_pred_rf))"
      ],
      "metadata": {
        "colab": {
          "base_uri": "https://localhost:8080/"
        },
        "id": "0SpiE_b-ZnlX",
        "outputId": "77e16aaa-ba67-465f-d087-d091f6d6aeb1"
      },
      "id": "0SpiE_b-ZnlX",
      "execution_count": 24,
      "outputs": [
        {
          "output_type": "stream",
          "name": "stdout",
          "text": [
            "Случайный лес:\n",
            "              precision    recall  f1-score   support\n",
            "\n",
            "          no       0.25      0.02      0.03       196\n",
            "         yes       0.78      0.99      0.87       685\n",
            "\n",
            "    accuracy                           0.77       881\n",
            "   macro avg       0.51      0.50      0.45       881\n",
            "weighted avg       0.66      0.77      0.68       881\n",
            "\n"
          ]
        }
      ]
    },
    {
      "cell_type": "code",
      "source": [
        "print(\"Метод опорных векторов:\")\n",
        "print(classification_report(y_val, y_val_pred_svc))"
      ],
      "metadata": {
        "colab": {
          "base_uri": "https://localhost:8080/"
        },
        "id": "ZMe9jLxzZpp9",
        "outputId": "51dbe38a-a958-40e7-b246-a2de31efd8ff"
      },
      "id": "ZMe9jLxzZpp9",
      "execution_count": 25,
      "outputs": [
        {
          "output_type": "stream",
          "name": "stdout",
          "text": [
            "Метод опорных векторов:\n",
            "              precision    recall  f1-score   support\n",
            "\n",
            "          no       0.00      0.00      0.00       196\n",
            "         yes       0.78      1.00      0.87       685\n",
            "\n",
            "    accuracy                           0.78       881\n",
            "   macro avg       0.39      0.50      0.44       881\n",
            "weighted avg       0.60      0.78      0.68       881\n",
            "\n"
          ]
        },
        {
          "output_type": "stream",
          "name": "stderr",
          "text": [
            "/usr/local/lib/python3.10/dist-packages/sklearn/metrics/_classification.py:1531: UndefinedMetricWarning: Precision is ill-defined and being set to 0.0 in labels with no predicted samples. Use `zero_division` parameter to control this behavior.\n",
            "  _warn_prf(average, modifier, f\"{metric.capitalize()} is\", len(result))\n",
            "/usr/local/lib/python3.10/dist-packages/sklearn/metrics/_classification.py:1531: UndefinedMetricWarning: Precision is ill-defined and being set to 0.0 in labels with no predicted samples. Use `zero_division` parameter to control this behavior.\n",
            "  _warn_prf(average, modifier, f\"{metric.capitalize()} is\", len(result))\n",
            "/usr/local/lib/python3.10/dist-packages/sklearn/metrics/_classification.py:1531: UndefinedMetricWarning: Precision is ill-defined and being set to 0.0 in labels with no predicted samples. Use `zero_division` parameter to control this behavior.\n",
            "  _warn_prf(average, modifier, f\"{metric.capitalize()} is\", len(result))\n"
          ]
        }
      ]
    },
    {
      "cell_type": "code",
      "source": [
        "# Исходя из полученных результатов, выберем модель с наилучшей оценкой и применим её на второй половине тестовой выборки."
      ],
      "metadata": {
        "id": "36NfWjAcZryQ"
      },
      "id": "36NfWjAcZryQ",
      "execution_count": 26,
      "outputs": []
    },
    {
      "cell_type": "code",
      "source": [
        "# Прогнозирование на второй половине тестовой выборки\n",
        "y_pred_log_final = model_log.predict(X_pred)"
      ],
      "metadata": {
        "id": "9ngnz6uRZtun"
      },
      "id": "9ngnz6uRZtun",
      "execution_count": 27,
      "outputs": []
    },
    {
      "cell_type": "code",
      "source": [
        "# Результаты предсказания\n",
        "predictions_df = pd.DataFrame({'Predicted': y_pred_log_final})\n",
        "print(predictions_df)"
      ],
      "metadata": {
        "id": "PvDlU9v6Zvg7",
        "outputId": "ad23149c-24aa-4ef5-9ab0-97fbf593cafc",
        "colab": {
          "base_uri": "https://localhost:8080/"
        }
      },
      "id": "PvDlU9v6Zvg7",
      "execution_count": 28,
      "outputs": [
        {
          "output_type": "stream",
          "name": "stdout",
          "text": [
            "    Predicted\n",
            "0         yes\n",
            "1         yes\n",
            "2         yes\n",
            "3         yes\n",
            "4         yes\n",
            "..        ...\n",
            "877       yes\n",
            "878       yes\n",
            "879       yes\n",
            "880       yes\n",
            "881       yes\n",
            "\n",
            "[882 rows x 1 columns]\n"
          ]
        }
      ]
    },
    {
      "cell_type": "code",
      "source": [
        "# Рекомендации\n",
        "# На основе предсказаний можно сделать выводы и рекомендации для потенциальных пользователей.\n",
        "# Целевая аудитория: Определить группы населения, такие как возрастные категории и пол, которые имеют высокий или низкий шанс наличия медицинской страховки.\n",
        "# Программы поддержки: Разработать целевые программы, направленные на поддержку тех групп, которые, как показывает анализ, имеют наименьшие шансы иметь медицинскую страховку.\n",
        "# Таким образом, данный анализ станет основой для дальнейших решений и рекомендаций в области здравоохранения."
      ],
      "metadata": {
        "id": "d_gTm0brZxYC"
      },
      "id": "d_gTm0brZxYC",
      "execution_count": 29,
      "outputs": []
    }
  ],
  "metadata": {
    "kernelspec": {
      "display_name": "Python 3 (ipykernel)",
      "language": "python",
      "name": "python3"
    },
    "language_info": {
      "codemirror_mode": {
        "name": "ipython",
        "version": 3
      },
      "file_extension": ".py",
      "mimetype": "text/x-python",
      "name": "python",
      "nbconvert_exporter": "python",
      "pygments_lexer": "ipython3",
      "version": "3.12.4"
    },
    "colab": {
      "provenance": []
    }
  },
  "nbformat": 4,
  "nbformat_minor": 5
}