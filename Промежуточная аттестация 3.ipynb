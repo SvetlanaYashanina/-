{
  "nbformat": 4,
  "nbformat_minor": 0,
  "metadata": {
    "colab": {
      "provenance": []
    },
    "kernelspec": {
      "name": "python3",
      "display_name": "Python 3"
    },
    "language_info": {
      "name": "python"
    }
  },
  "cells": [
    {
      "cell_type": "code",
      "execution_count": 40,
      "metadata": {
        "id": "hcbONZVj35-Y"
      },
      "outputs": [],
      "source": [
        "import pandas as pd\n",
        "from sklearn.model_selection import train_test_split\n",
        "from sklearn.ensemble import RandomForestClassifier\n",
        "from sklearn.linear_model import LogisticRegression\n",
        "from sklearn.svm import SVC\n",
        "from sklearn.metrics import accuracy_score\n",
        "from sklearn.metrics import accuracy_score, classification_report"
      ]
    },
    {
      "cell_type": "code",
      "source": [
        "# Загружаем датасет\n",
        "url = \"https://vincentarelbundock.github.io/Rdatasets/csv/Ecdat/OFP.csv\"\n",
        "data = pd.read_csv(url)"
      ],
      "metadata": {
        "id": "0g5DsgAv4EoK"
      },
      "execution_count": 2,
      "outputs": []
    },
    {
      "cell_type": "code",
      "source": [
        "# На основе проведенных наблюдений о взаимосвязи между переменными сформулируйте задачу классификации или регрессии,\n",
        "# которая может иметь практическую ценность.\n",
        "# Задача классификации: Определение наличия медицинской страховки (privins) на основе пола (Sex) и возраста (age).\n",
        "# Описание задачи: Это поможет выявить, какие группы населения, основываясь на демографических характеристиках, имеют более высокие или низкие шансы на наличие медицинской страховки.\n",
        "# Например, можно выделить пол, возраст и другие факторы, влияющие на возможность иметь медицинскую страховку, и на этой основе разрабатывать программы поддержки."
      ],
      "metadata": {
        "id": "tZnlcnvU4bek"
      },
      "execution_count": null,
      "outputs": []
    },
    {
      "cell_type": "code",
      "source": [
        "# Теперь разделим данные на обучающую (60%) и тестовую (40%) выборки. Затем разделим тестовую выборку пополам (по 20% каждая)."
      ],
      "metadata": {
        "id": "RC693ipX8ion"
      },
      "execution_count": 29,
      "outputs": []
    },
    {
      "cell_type": "code",
      "source": [
        "# Определим фичи и целевую переменную\n",
        "X = data[['sex', 'age']]\n",
        "y = data['privins']"
      ],
      "metadata": {
        "id": "qlnbNm6k8mYz"
      },
      "execution_count": 30,
      "outputs": []
    },
    {
      "cell_type": "code",
      "source": [
        "# Преобразуем категориальные переменные в числовые\n",
        "X = pd.get_dummies(X, drop_first=True)"
      ],
      "metadata": {
        "id": "Rwx2jIZX9AH0"
      },
      "execution_count": 31,
      "outputs": []
    },
    {
      "cell_type": "code",
      "source": [
        "# Разделяем данные на обучающую (60%) и тестовую (40%)\n",
        "X_train, X_test, y_train, y_test = train_test_split(X, y, test_size=0.4, random_state=42)"
      ],
      "metadata": {
        "id": "uXF-hPIJ9DRu"
      },
      "execution_count": 32,
      "outputs": []
    },
    {
      "cell_type": "code",
      "source": [
        "# Теперь делим тестовую выборку пополам (по 20% каждая)\n",
        "X_val, X_pred, y_val, y_pred = train_test_split(X_test, y_test, test_size=0.5, random_state=42)"
      ],
      "metadata": {
        "id": "HpMZriRc9FoG"
      },
      "execution_count": 33,
      "outputs": []
    },
    {
      "cell_type": "code",
      "source": [
        "# Теперь обучим три разные модели: логистическую регрессию, случайный лес и метод опорных векторов."
      ],
      "metadata": {
        "id": "VU56GicW9H1f"
      },
      "execution_count": 34,
      "outputs": []
    },
    {
      "cell_type": "code",
      "source": [
        "# Логистическая регрессия\n",
        "model_log = LogisticRegression()\n",
        "model_log.fit(X_train, y_train)\n",
        "y_val_pred_log = model_log.predict(X_val)"
      ],
      "metadata": {
        "id": "s4_xBRcs9MK3"
      },
      "execution_count": 35,
      "outputs": []
    },
    {
      "cell_type": "code",
      "source": [
        "# Случайный лес\n",
        "model_rf = RandomForestClassifier()\n",
        "model_rf.fit(X_train, y_train)\n",
        "y_val_pred_rf = model_rf.predict(X_val)"
      ],
      "metadata": {
        "id": "yJIAyH9d9PlL"
      },
      "execution_count": 36,
      "outputs": []
    },
    {
      "cell_type": "code",
      "source": [
        "# Метод опорных векторов\n",
        "model_svc = SVC()\n",
        "model_svc.fit(X_train, y_train)\n",
        "y_val_pred_svc = model_svc.predict(X_val)"
      ],
      "metadata": {
        "id": "w2O3U5Xl9SGS"
      },
      "execution_count": 37,
      "outputs": []
    },
    {
      "cell_type": "code",
      "source": [
        "# Теперь оценим качество каждой из моделей на валидирующей выборке."
      ],
      "metadata": {
        "id": "PCIRTOS_9UW0"
      },
      "execution_count": 38,
      "outputs": []
    },
    {
      "cell_type": "code",
      "source": [
        "# Оценка качества\n",
        "print(\"Логистическая регрессия:\")\n",
        "print(classification_report(y_val, y_val_pred_log))"
      ],
      "metadata": {
        "colab": {
          "base_uri": "https://localhost:8080/"
        },
        "id": "Uq1oAPj-9Xbc",
        "outputId": "80e84965-fdea-46ec-96c9-7779442ad62b"
      },
      "execution_count": 41,
      "outputs": [
        {
          "output_type": "stream",
          "name": "stdout",
          "text": [
            "Логистическая регрессия:\n",
            "              precision    recall  f1-score   support\n",
            "\n",
            "          no       0.00      0.00      0.00       196\n",
            "         yes       0.78      1.00      0.87       685\n",
            "\n",
            "    accuracy                           0.78       881\n",
            "   macro avg       0.39      0.50      0.44       881\n",
            "weighted avg       0.60      0.78      0.68       881\n",
            "\n"
          ]
        },
        {
          "output_type": "stream",
          "name": "stderr",
          "text": [
            "/usr/local/lib/python3.10/dist-packages/sklearn/metrics/_classification.py:1531: UndefinedMetricWarning: Precision is ill-defined and being set to 0.0 in labels with no predicted samples. Use `zero_division` parameter to control this behavior.\n",
            "  _warn_prf(average, modifier, f\"{metric.capitalize()} is\", len(result))\n",
            "/usr/local/lib/python3.10/dist-packages/sklearn/metrics/_classification.py:1531: UndefinedMetricWarning: Precision is ill-defined and being set to 0.0 in labels with no predicted samples. Use `zero_division` parameter to control this behavior.\n",
            "  _warn_prf(average, modifier, f\"{metric.capitalize()} is\", len(result))\n",
            "/usr/local/lib/python3.10/dist-packages/sklearn/metrics/_classification.py:1531: UndefinedMetricWarning: Precision is ill-defined and being set to 0.0 in labels with no predicted samples. Use `zero_division` parameter to control this behavior.\n",
            "  _warn_prf(average, modifier, f\"{metric.capitalize()} is\", len(result))\n"
          ]
        }
      ]
    },
    {
      "cell_type": "code",
      "source": [
        "print(\"Случайный лес:\")\n",
        "print(classification_report(y_val, y_val_pred_rf))"
      ],
      "metadata": {
        "colab": {
          "base_uri": "https://localhost:8080/"
        },
        "id": "sJpIuJI99hWF",
        "outputId": "030da92e-bfa9-4eea-d56e-560e466f4fc3"
      },
      "execution_count": 42,
      "outputs": [
        {
          "output_type": "stream",
          "name": "stdout",
          "text": [
            "Случайный лес:\n",
            "              precision    recall  f1-score   support\n",
            "\n",
            "          no       0.27      0.02      0.03       196\n",
            "         yes       0.78      0.99      0.87       685\n",
            "\n",
            "    accuracy                           0.77       881\n",
            "   macro avg       0.53      0.50      0.45       881\n",
            "weighted avg       0.67      0.77      0.68       881\n",
            "\n"
          ]
        }
      ]
    },
    {
      "cell_type": "code",
      "source": [
        "print(\"Метод опорных векторов:\")\n",
        "print(classification_report(y_val, y_val_pred_svc))"
      ],
      "metadata": {
        "colab": {
          "base_uri": "https://localhost:8080/"
        },
        "id": "SvzfAV0s9nPF",
        "outputId": "c29d1743-f3a4-47b1-8681-e78a5758e455"
      },
      "execution_count": 43,
      "outputs": [
        {
          "output_type": "stream",
          "name": "stdout",
          "text": [
            "Метод опорных векторов:\n",
            "              precision    recall  f1-score   support\n",
            "\n",
            "          no       0.00      0.00      0.00       196\n",
            "         yes       0.78      1.00      0.87       685\n",
            "\n",
            "    accuracy                           0.78       881\n",
            "   macro avg       0.39      0.50      0.44       881\n",
            "weighted avg       0.60      0.78      0.68       881\n",
            "\n"
          ]
        },
        {
          "output_type": "stream",
          "name": "stderr",
          "text": [
            "/usr/local/lib/python3.10/dist-packages/sklearn/metrics/_classification.py:1531: UndefinedMetricWarning: Precision is ill-defined and being set to 0.0 in labels with no predicted samples. Use `zero_division` parameter to control this behavior.\n",
            "  _warn_prf(average, modifier, f\"{metric.capitalize()} is\", len(result))\n",
            "/usr/local/lib/python3.10/dist-packages/sklearn/metrics/_classification.py:1531: UndefinedMetricWarning: Precision is ill-defined and being set to 0.0 in labels with no predicted samples. Use `zero_division` parameter to control this behavior.\n",
            "  _warn_prf(average, modifier, f\"{metric.capitalize()} is\", len(result))\n",
            "/usr/local/lib/python3.10/dist-packages/sklearn/metrics/_classification.py:1531: UndefinedMetricWarning: Precision is ill-defined and being set to 0.0 in labels with no predicted samples. Use `zero_division` parameter to control this behavior.\n",
            "  _warn_prf(average, modifier, f\"{metric.capitalize()} is\", len(result))\n"
          ]
        }
      ]
    },
    {
      "cell_type": "code",
      "source": [
        "# Исходя из полученных результатов, выберем модель с наилучшей оценкой и применим её на второй половине тестовой выборки."
      ],
      "metadata": {
        "id": "w6PdTTZq9p5Y"
      },
      "execution_count": 44,
      "outputs": []
    },
    {
      "cell_type": "code",
      "source": [
        "# Прогнозирование на второй половине тестовой выборки\n",
        "y_pred_log_final = model_log.predict(X_pred)"
      ],
      "metadata": {
        "id": "V-4bk3wU9ueN"
      },
      "execution_count": 45,
      "outputs": []
    },
    {
      "cell_type": "code",
      "source": [
        "# Результаты предсказания\n",
        "predictions_df = pd.DataFrame({'Predicted': y_pred_log_final})\n",
        "print(predictions_df)"
      ],
      "metadata": {
        "colab": {
          "base_uri": "https://localhost:8080/"
        },
        "id": "6WJ2najH91lw",
        "outputId": "7fa6eff9-709f-4bf3-e659-fe18c6c688bd"
      },
      "execution_count": 46,
      "outputs": [
        {
          "output_type": "stream",
          "name": "stdout",
          "text": [
            "    Predicted\n",
            "0         yes\n",
            "1         yes\n",
            "2         yes\n",
            "3         yes\n",
            "4         yes\n",
            "..        ...\n",
            "877       yes\n",
            "878       yes\n",
            "879       yes\n",
            "880       yes\n",
            "881       yes\n",
            "\n",
            "[882 rows x 1 columns]\n"
          ]
        }
      ]
    },
    {
      "cell_type": "code",
      "source": [
        "# Рекомендации\n",
        "# На основе предсказаний можно сделать выводы и рекомендации для потенциальных пользователей.\n",
        "# Целевая аудитория: Определить группы населения, такие как возрастные категории и пол, которые имеют высокий или низкий шанс наличия медицинской страховки.\n",
        "# Программы поддержки: Разработать целевые программы, направленные на поддержку тех групп, которые, как показывает анализ, имеют наименьшие шансы иметь медицинскую страховку.\n",
        "# Таким образом, данный анализ станет основой для дальнейших решений и рекомендаций в области здравоохранения."
      ],
      "metadata": {
        "id": "V-a_shan94iE"
      },
      "execution_count": null,
      "outputs": []
    }
  ]
}