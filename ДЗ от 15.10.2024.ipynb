{
 "cells": [
  {
   "cell_type": "code",
   "execution_count": 1,
   "id": "6ee10a2e-3562-4926-9e43-b6c57cfdcf04",
   "metadata": {},
   "outputs": [],
   "source": [
    "import pandas as pd\n",
    "import numpy as np\n",
    "import matplotlib.pyplot as plt\n",
    "import seaborn as sns\n",
    "from scipy import stats"
   ]
  },
  {
   "cell_type": "code",
   "execution_count": 7,
   "id": "d357c6dc-4360-4c13-b93b-57cb302ba6c0",
   "metadata": {},
   "outputs": [],
   "source": [
    "file_path = r\"/Users/roman/Desktop/Новая папка/marketing_AB.csv\"\n",
    "data = pd.read_csv(file_path)"
   ]
  },
  {
   "cell_type": "code",
   "execution_count": 9,
   "id": "2effb35c-b79c-4dc0-94a7-0743c3a20301",
   "metadata": {},
   "outputs": [
    {
     "data": {
      "text/html": [
       "<div>\n",
       "<style scoped>\n",
       "    .dataframe tbody tr th:only-of-type {\n",
       "        vertical-align: middle;\n",
       "    }\n",
       "\n",
       "    .dataframe tbody tr th {\n",
       "        vertical-align: top;\n",
       "    }\n",
       "\n",
       "    .dataframe thead th {\n",
       "        text-align: right;\n",
       "    }\n",
       "</style>\n",
       "<table border=\"1\" class=\"dataframe\">\n",
       "  <thead>\n",
       "    <tr style=\"text-align: right;\">\n",
       "      <th></th>\n",
       "      <th>Unnamed: 0</th>\n",
       "      <th>user id</th>\n",
       "      <th>test group</th>\n",
       "      <th>converted</th>\n",
       "      <th>total ads</th>\n",
       "      <th>most ads day</th>\n",
       "      <th>most ads hour</th>\n",
       "    </tr>\n",
       "  </thead>\n",
       "  <tbody>\n",
       "    <tr>\n",
       "      <th>0</th>\n",
       "      <td>0</td>\n",
       "      <td>1069124</td>\n",
       "      <td>ad</td>\n",
       "      <td>False</td>\n",
       "      <td>130</td>\n",
       "      <td>Monday</td>\n",
       "      <td>20</td>\n",
       "    </tr>\n",
       "    <tr>\n",
       "      <th>1</th>\n",
       "      <td>1</td>\n",
       "      <td>1119715</td>\n",
       "      <td>ad</td>\n",
       "      <td>False</td>\n",
       "      <td>93</td>\n",
       "      <td>Tuesday</td>\n",
       "      <td>22</td>\n",
       "    </tr>\n",
       "    <tr>\n",
       "      <th>2</th>\n",
       "      <td>2</td>\n",
       "      <td>1144181</td>\n",
       "      <td>ad</td>\n",
       "      <td>False</td>\n",
       "      <td>21</td>\n",
       "      <td>Tuesday</td>\n",
       "      <td>18</td>\n",
       "    </tr>\n",
       "    <tr>\n",
       "      <th>3</th>\n",
       "      <td>3</td>\n",
       "      <td>1435133</td>\n",
       "      <td>ad</td>\n",
       "      <td>False</td>\n",
       "      <td>355</td>\n",
       "      <td>Tuesday</td>\n",
       "      <td>10</td>\n",
       "    </tr>\n",
       "    <tr>\n",
       "      <th>4</th>\n",
       "      <td>4</td>\n",
       "      <td>1015700</td>\n",
       "      <td>ad</td>\n",
       "      <td>False</td>\n",
       "      <td>276</td>\n",
       "      <td>Friday</td>\n",
       "      <td>14</td>\n",
       "    </tr>\n",
       "    <tr>\n",
       "      <th>...</th>\n",
       "      <td>...</td>\n",
       "      <td>...</td>\n",
       "      <td>...</td>\n",
       "      <td>...</td>\n",
       "      <td>...</td>\n",
       "      <td>...</td>\n",
       "      <td>...</td>\n",
       "    </tr>\n",
       "    <tr>\n",
       "      <th>588096</th>\n",
       "      <td>588096</td>\n",
       "      <td>1278437</td>\n",
       "      <td>ad</td>\n",
       "      <td>False</td>\n",
       "      <td>1</td>\n",
       "      <td>Tuesday</td>\n",
       "      <td>23</td>\n",
       "    </tr>\n",
       "    <tr>\n",
       "      <th>588097</th>\n",
       "      <td>588097</td>\n",
       "      <td>1327975</td>\n",
       "      <td>ad</td>\n",
       "      <td>False</td>\n",
       "      <td>1</td>\n",
       "      <td>Tuesday</td>\n",
       "      <td>23</td>\n",
       "    </tr>\n",
       "    <tr>\n",
       "      <th>588098</th>\n",
       "      <td>588098</td>\n",
       "      <td>1038442</td>\n",
       "      <td>ad</td>\n",
       "      <td>False</td>\n",
       "      <td>3</td>\n",
       "      <td>Tuesday</td>\n",
       "      <td>23</td>\n",
       "    </tr>\n",
       "    <tr>\n",
       "      <th>588099</th>\n",
       "      <td>588099</td>\n",
       "      <td>1496395</td>\n",
       "      <td>ad</td>\n",
       "      <td>False</td>\n",
       "      <td>1</td>\n",
       "      <td>Tuesday</td>\n",
       "      <td>23</td>\n",
       "    </tr>\n",
       "    <tr>\n",
       "      <th>588100</th>\n",
       "      <td>588100</td>\n",
       "      <td>1237779</td>\n",
       "      <td>ad</td>\n",
       "      <td>False</td>\n",
       "      <td>1</td>\n",
       "      <td>Tuesday</td>\n",
       "      <td>23</td>\n",
       "    </tr>\n",
       "  </tbody>\n",
       "</table>\n",
       "<p>588101 rows × 7 columns</p>\n",
       "</div>"
      ],
      "text/plain": [
       "        Unnamed: 0  user id test group  converted  total ads most ads day  \\\n",
       "0                0  1069124         ad      False        130       Monday   \n",
       "1                1  1119715         ad      False         93      Tuesday   \n",
       "2                2  1144181         ad      False         21      Tuesday   \n",
       "3                3  1435133         ad      False        355      Tuesday   \n",
       "4                4  1015700         ad      False        276       Friday   \n",
       "...            ...      ...        ...        ...        ...          ...   \n",
       "588096      588096  1278437         ad      False          1      Tuesday   \n",
       "588097      588097  1327975         ad      False          1      Tuesday   \n",
       "588098      588098  1038442         ad      False          3      Tuesday   \n",
       "588099      588099  1496395         ad      False          1      Tuesday   \n",
       "588100      588100  1237779         ad      False          1      Tuesday   \n",
       "\n",
       "        most ads hour  \n",
       "0                  20  \n",
       "1                  22  \n",
       "2                  18  \n",
       "3                  10  \n",
       "4                  14  \n",
       "...               ...  \n",
       "588096             23  \n",
       "588097             23  \n",
       "588098             23  \n",
       "588099             23  \n",
       "588100             23  \n",
       "\n",
       "[588101 rows x 7 columns]"
      ]
     },
     "execution_count": 9,
     "metadata": {},
     "output_type": "execute_result"
    }
   ],
   "source": [
    "data"
   ]
  },
  {
   "cell_type": "code",
   "execution_count": 11,
   "id": "5936bb0b-e463-4e6e-a0f8-99a70e5f9af7",
   "metadata": {},
   "outputs": [],
   "source": [
    "# Основная задача – проанализировать группы клиентов и ответить навопрос, какой тип рекламы был успешнее.\n",
    "# Большинство людей будут видеть рекламу. \n",
    "# А небольшая часть людей вместо этого увидит социальную рекламу (PSA) (или ничего) в том же размере и в том месте, где обычно находится реклама."
   ]
  },
  {
   "cell_type": "code",
   "execution_count": 23,
   "id": "3e95471c-7136-4a43-83da-5e9e6a4d4faf",
   "metadata": {},
   "outputs": [],
   "source": [
    "# Разделение данных на группы A и B\n",
    "group_a = data[data['test group'] == 'A']['converted']\n",
    "group_b = data[data['test group'] == 'B']['converted']"
   ]
  },
  {
   "cell_type": "code",
   "execution_count": 25,
   "id": "cfdb53a3-5d4f-45a4-b7e5-fc179e2497be",
   "metadata": {},
   "outputs": [],
   "source": [
    "# Подсчет конверсий для каждой группы\n",
    "conversion_a = group_a.mean()\n",
    "conversion_b = group_b.mean()"
   ]
  },
  {
   "cell_type": "code",
   "execution_count": 27,
   "id": "037386be-f1b1-46b9-8932-02b2df68e51f",
   "metadata": {},
   "outputs": [],
   "source": [
    "# Проводим t-тест для проверки значимости разницы\n",
    "t_stat, p_value = stats.ttest_ind(group_a, group_b)"
   ]
  },
  {
   "cell_type": "code",
   "execution_count": 29,
   "id": "b76afeea-2b05-4f37-be63-da6dbe99e8ab",
   "metadata": {},
   "outputs": [
    {
     "name": "stdout",
     "output_type": "stream",
     "text": [
      "Конверсия группы A: nan\n",
      "Конверсия группы B: nan\n",
      "p-значение: nan\n"
     ]
    }
   ],
   "source": [
    "# Вывод результатов\n",
    "print(f'Конверсия группы A: {conversion_a:.2f}')\n",
    "print(f'Конверсия группы B: {conversion_b:.2f}')\n",
    "print(f'p-значение: {p_value:.4f}')"
   ]
  },
  {
   "cell_type": "code",
   "execution_count": 31,
   "id": "c82525b9-5011-438d-93b6-78193ad0c2d8",
   "metadata": {},
   "outputs": [
    {
     "name": "stdout",
     "output_type": "stream",
     "text": [
      "Нет значимой разницы в конверсии между группами A и B.\n"
     ]
    }
   ],
   "source": [
    "# Интерпретация результата\n",
    "if p_value < 0.05:\n",
    "    print(\"Существует значимая разница в конверсии между группами A и B.\")\n",
    "else:\n",
    "    print(\"Нет значимой разницы в конверсии между группами A и B.\")"
   ]
  },
  {
   "cell_type": "code",
   "execution_count": 41,
   "id": "c256e1fd-d286-4c99-a30b-f70b68148391",
   "metadata": {},
   "outputs": [],
   "source": [
    "# Группируем данные по тестовым группам и подсчитываем конверсии\n",
    "conversion_rates = data.groupby('test group')['converted'].mean().reset_index()"
   ]
  },
  {
   "cell_type": "code",
   "execution_count": 43,
   "id": "e1f2541b-6406-495f-8ec8-2f4fde4f5a36",
   "metadata": {},
   "outputs": [
    {
     "data": {
      "image/png": "[encoded data removed]",
      "text/plain": [
       "<Figure size 800x500 with 1 Axes>"
      ]
     },
     "metadata": {},
     "output_type": "display_data"
    }
   ],
   "source": [
    "# Визуализация\n",
    "plt.figure(figsize=(8, 5))\n",
    "plt.bar(conversion_rates['test group'], conversion_rates['converted'], color=['blue', 'orange'])\n",
    "plt.xlabel('Тестовая группа')\n",
    "plt.ylabel('Конверсия')\n",
    "plt.title('Конверсия по тестовым группам')\n",
    "plt.ylim(0, 1)  # Устанавливаем пределы по y от 0 до 1\n",
    "plt.axhline(y=0.5, color='r', linestyle='--')  # Проводим горизонтальную линию для наглядности\n",
    "plt.show()"
   ]
  },
  {
   "cell_type": "code",
   "execution_count": null,
   "id": "7966b0b9-869d-40da-92b7-ab6125cc4cfa",
   "metadata": {},
   "outputs": [],
   "source": [
    "# Конверсия в группе клиентов, которой показывали вариант рекламы А, и в группе клиентов, которой показывали вариант социальной рекламы не отличаются. "
   ]
  }
 ],
 "metadata": {
  "kernelspec": {
   "display_name": "Python 3 (ipykernel)",
   "language": "python",
   "name": "python3"
  },
  "language_info": {
   "codemirror_mode": {
    "name": "ipython",
    "version": 3
   },
   "file_extension": ".py",
   "mimetype": "text/x-python",
   "name": "python",
   "nbconvert_exporter": "python",
   "pygments_lexer": "ipython3",
   "version": "3.12.4"
  }
 },
 "nbformat": 4,
 "nbformat_minor": 5
}
